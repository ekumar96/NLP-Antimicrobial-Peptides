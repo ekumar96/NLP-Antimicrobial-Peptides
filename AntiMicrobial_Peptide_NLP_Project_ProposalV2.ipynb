{
  "nbformat": 4,
  "nbformat_minor": 0,
  "metadata": {
    "colab": {
      "name": "AntiMicrobial_Peptide_NLP_Project_ProposalV2.ipynb",
      "provenance": [],
      "collapsed_sections": []
    },
    "kernelspec": {
      "name": "python3",
      "display_name": "Python 3"
    }
  },
  "cells": [
    {
      "cell_type": "markdown",
      "metadata": {
        "id": "rj49bnYBp3H_"
      },
      "source": [
        "# Problem Statement: \n",
        "Peptides are proteins comprised of a relatively short chain of amino acids. The drug discovery and wellness industry look at peptides as a potential solution for health optimization and disease management while being radically cost effective and with little to no known side-effects. This makes the process of discovering such amino acid chains a valuable endeavor. There are many studies that indicate that certain peptides have anti-cancer properties - these are known as APCs. The function of these peptides is determined by their amino acid sequence. \n",
        "\n",
        "**Our Project will focus on using the Word2Vec algorithm to encode amino acid sequences of variable length into embeddings. This is an important step as these amino acid sequences have important positional and structural relationships which will be preserved and exploited in order to create embeddings.**\n",
        "\n",
        "This is a supervised classification problem, where we need to categorize certain peptides as therapeutic or not. \n",
        "\n",
        "**As a final step, we will attempt to present the task of successful discovery as a classification problem.**"
      ]
    },
    {
      "cell_type": "markdown",
      "metadata": {
        "id": "mDxZnYgav6Xu"
      },
      "source": [
        "# Data description\n",
        "Example data can be seen here: http://split4.pmfst.hr/dadp/?a=list\n",
        "\n",
        "The data is a lot of \"peptides\", which can be thought of as a \"sentence\", and is composed of a sequence of \"amino acids\" which can be thought of as a sequence of \"words\". There are 20 different amino acids, which can be of varying length. \n",
        "\n",
        "For example, 2 pieces of data\n",
        "- A P P G F T P F R I A - this is a positive sequence (it has experimentally found to have anti-bacterial properties)\n",
        "\n",
        "- G Y A B B L Y M T N O - this is a negative sequence (experimentally, it has no effect on microbes and bacteria)\n",
        "\n",
        "These sequences can be of varying length, so preprocessing steps will need to occur. \n",
        "\n",
        "\n",
        "###Dataset size\n",
        "- We will extract roughly 2150 peptides from the DADP, or the database of anuran defense peptides, which has thousands of peptides found in the skin of frogs that have been shown to have antimicrobial properties\n",
        "\n",
        "- Since there are very few experimentally proved non-anticancer peptides, we plan to download the dataset of all the peptides (~2500 total) from the same website (DADP), then determine which ones are not marked as positive, and use these peptides. \n",
        "  - \"While it is easy to download the positive data set from the APD, it is difficult to get a true negative data set because the activities of the sequences in the negative data set have not been validated by experiments. Yet, the program is set up with good predictive ability.\" *-Improved Methods for Classification, Prediction and Design of Antimicrobial Peptides*\n",
        "\n",
        "- This is based on the methodology from this study (https://www.researchgate.net/publication/258055594_In_Silico_Models_for_Designing_and_Discovering_Novel_Anticancer_Peptides)\n",
        "\n",
        "Resources: (https://webs.iiitd.edu.in/raghava/satpdb/catalog.php), (APD, http://aps.unmc.edu/AP/main.php), (CAMP, http://www.bicnirrh.res.in/antimicrobial),(DADP, http://split4.pmfst.hr/dadp/)\n",
        "\n",
        "Peptide discovery with deep NLP\n",
        "https://bmcbioinformatics.biomedcentral.com/articles/10.1186/s12859-019-3006-z"
      ]
    },
    {
      "cell_type": "markdown",
      "metadata": {
        "id": "0Eu3kHC2r870"
      },
      "source": [
        "First, the data is brought from the local machine"
      ]
    },
    {
      "cell_type": "code",
      "metadata": {
        "id": "LLPakHeiVoPl",
        "colab": {
          "resources": {
            "http://localhost:8080/nbextensions/google.colab/files.js": {
              "data": "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",
              "ok": true,
              "headers": [
                [
                  "content-type",
                  "application/javascript"
                ]
              ],
              "status": 200,
              "status_text": ""
            }
          },
          "base_uri": "https://localhost:8080/",
          "height": 102
        },
        "outputId": "59de373b-eea8-4f31-97aa-bc478d6bd2d4"
      },
      "source": [
        "import pandas as pd\n",
        "from google.colab import files\n",
        "uploaded = files.upload()"
      ],
      "execution_count": null,
      "outputs": [
        {
          "output_type": "display_data",
          "data": {
            "text/html": [
              "\n",
              "     <input type=\"file\" id=\"files-527e5ecb-865c-4db9-8c76-d6b2f9ea84b6\" name=\"files[]\" multiple disabled\n",
              "        style=\"border:none\" />\n",
              "     <output id=\"result-527e5ecb-865c-4db9-8c76-d6b2f9ea84b6\">\n",
              "      Upload widget is only available when the cell has been executed in the\n",
              "      current browser session. Please rerun this cell to enable.\n",
              "      </output>\n",
              "      <script src=\"/nbextensions/google.colab/files.js\"></script> "
            ],
            "text/plain": [
              "<IPython.core.display.HTML object>"
            ]
          },
          "metadata": {
            "tags": []
          }
        },
        {
          "output_type": "stream",
          "text": [
            "Saving nlp_data.csv to nlp_data.csv\n",
            "Saving PositiveSequences.csv to PositiveSequences.csv\n"
          ],
          "name": "stdout"
        }
      ]
    },
    {
      "cell_type": "code",
      "metadata": {
        "id": "YNTntXqRV6ML"
      },
      "source": [
        "import io\n",
        "posDF = pd.read_csv(io.BytesIO(uploaded['PositiveSequences.csv']))\n",
        "allDataDF = pd.read_csv(io.BytesIO(uploaded['nlp_data.csv']))"
      ],
      "execution_count": null,
      "outputs": []
    },
    {
      "cell_type": "markdown",
      "metadata": {
        "id": "LwwWDBPUsNwg"
      },
      "source": [
        "The data in this situation is weird - one CSV contains only positive sequences (antimicrobial peptides) and the other CSV contains positive and negative sequences (antimicrobial and non-antimicrobial peptides)"
      ]
    },
    {
      "cell_type": "code",
      "metadata": {
        "id": "7AFOfJKGWNv2",
        "colab": {
          "base_uri": "https://localhost:8080/",
          "height": 888
        },
        "outputId": "760f91e8-9c33-4bbf-a674-347315cab1d4"
      },
      "source": [
        "allDataDF = allDataDF.set_index(allDataDF['DADP ID'])\n",
        "print(\"Dataframe with all peptides:\")\n",
        "display(allDataDF)\n",
        "posDF = posDF.set_index(posDF['DADP ID'])\n",
        "print(\"\\n\\nDataframe with only Antimicrobial peptides:\")\n",
        "display(posDF)"
      ],
      "execution_count": null,
      "outputs": [
        {
          "output_type": "stream",
          "text": [
            "Dataframe with all peptides:\n"
          ],
          "name": "stdout"
        },
        {
          "output_type": "display_data",
          "data": {
            "text/html": [
              "<div>\n",
              "<style scoped>\n",
              "    .dataframe tbody tr th:only-of-type {\n",
              "        vertical-align: middle;\n",
              "    }\n",
              "\n",
              "    .dataframe tbody tr th {\n",
              "        vertical-align: top;\n",
              "    }\n",
              "\n",
              "    .dataframe thead th {\n",
              "        text-align: right;\n",
              "    }\n",
              "</style>\n",
              "<table border=\"1\" class=\"dataframe\">\n",
              "  <thead>\n",
              "    <tr style=\"text-align: right;\">\n",
              "      <th></th>\n",
              "      <th>DADP ID</th>\n",
              "      <th>Entry Name</th>\n",
              "      <th>Uniprot code</th>\n",
              "      <th>Species</th>\n",
              "      <th>Sequence length</th>\n",
              "      <th>Signal sequence</th>\n",
              "      <th>Bioactive sequence</th>\n",
              "    </tr>\n",
              "    <tr>\n",
              "      <th>DADP ID</th>\n",
              "      <th></th>\n",
              "      <th></th>\n",
              "      <th></th>\n",
              "      <th></th>\n",
              "      <th></th>\n",
              "      <th></th>\n",
              "      <th></th>\n",
              "    </tr>\n",
              "  </thead>\n",
              "  <tbody>\n",
              "    <tr>\n",
              "      <th>SP_P86816</th>\n",
              "      <td>SP_P86816</td>\n",
              "      <td>[Ala1,Thr6,Ala11]-phyllokinin</td>\n",
              "      <td>P86816</td>\n",
              "      <td>Physalaemus signifer</td>\n",
              "      <td>11</td>\n",
              "      <td>/</td>\n",
              "      <td>APPGFTPFRIA</td>\n",
              "    </tr>\n",
              "    <tr>\n",
              "      <th>SP_P86817</th>\n",
              "      <td>SP_P86817</td>\n",
              "      <td>[Ala1,Thr6,Asp11]-phyllokinin</td>\n",
              "      <td>P86817</td>\n",
              "      <td>Physalaemus signifer</td>\n",
              "      <td>11</td>\n",
              "      <td>/</td>\n",
              "      <td>APPGFTPFRID</td>\n",
              "    </tr>\n",
              "    <tr>\n",
              "      <th>SP_P86812</th>\n",
              "      <td>SP_P86812</td>\n",
              "      <td>[Ala1,Thr6]-bradykinin</td>\n",
              "      <td>P86812</td>\n",
              "      <td>Physalaemus signifer</td>\n",
              "      <td>9</td>\n",
              "      <td>/</td>\n",
              "      <td>APPGFTPFR</td>\n",
              "    </tr>\n",
              "    <tr>\n",
              "      <th>SP_P86813</th>\n",
              "      <td>SP_P86813</td>\n",
              "      <td>[Ala1,Thr6]-bradykinyl-Ser</td>\n",
              "      <td>P86813</td>\n",
              "      <td>Physalaemus signifer</td>\n",
              "      <td>10</td>\n",
              "      <td>/</td>\n",
              "      <td>APPGFTPFRS</td>\n",
              "    </tr>\n",
              "    <tr>\n",
              "      <th>SP_P86814</th>\n",
              "      <td>SP_P86814</td>\n",
              "      <td>[Ala1,Thr6]-bradykinyl-Ser,Lys</td>\n",
              "      <td>P86814</td>\n",
              "      <td>Physalaemus signifer</td>\n",
              "      <td>11</td>\n",
              "      <td>/</td>\n",
              "      <td>APPGFTPFRSK</td>\n",
              "    </tr>\n",
              "    <tr>\n",
              "      <th>...</th>\n",
              "      <td>...</td>\n",
              "      <td>...</td>\n",
              "      <td>...</td>\n",
              "      <td>...</td>\n",
              "      <td>...</td>\n",
              "      <td>...</td>\n",
              "      <td>...</td>\n",
              "    </tr>\n",
              "    <tr>\n",
              "      <th>SP_2596</th>\n",
              "      <td>SP_2596</td>\n",
              "      <td>XPF-C1</td>\n",
              "      <td>NaN</td>\n",
              "      <td>Xenopus clivii</td>\n",
              "      <td>25</td>\n",
              "      <td>/</td>\n",
              "      <td>GWASKIGQALGKVAKVGLQQFIQPK</td>\n",
              "    </tr>\n",
              "    <tr>\n",
              "      <th>SP_2704</th>\n",
              "      <td>SP_2704</td>\n",
              "      <td>XPF-SP1</td>\n",
              "      <td>NaN</td>\n",
              "      <td>Xenopus tropicalis</td>\n",
              "      <td>25</td>\n",
              "      <td>/</td>\n",
              "      <td>GFWSSALEGLKKFAKGGLEALTNPK</td>\n",
              "    </tr>\n",
              "    <tr>\n",
              "      <th>SP_2705</th>\n",
              "      <td>SP_2705</td>\n",
              "      <td>XPF-SP2</td>\n",
              "      <td>NaN</td>\n",
              "      <td>Xenopus tropicalis</td>\n",
              "      <td>25</td>\n",
              "      <td>/</td>\n",
              "      <td>GLASTIGSLLGKFAKGGAQAFLQPK</td>\n",
              "    </tr>\n",
              "    <tr>\n",
              "      <th>SP_2743</th>\n",
              "      <td>SP_2743</td>\n",
              "      <td>XTG 1</td>\n",
              "      <td>NaN</td>\n",
              "      <td>Xenopus tropicalis</td>\n",
              "      <td>87</td>\n",
              "      <td>MYKGICLCALLAVICANSLA</td>\n",
              "      <td>GWGDTFGKVLKNFAKVAGVKAAK</td>\n",
              "    </tr>\n",
              "    <tr>\n",
              "      <th>SP_2742</th>\n",
              "      <td>SP_2742</td>\n",
              "      <td>XTG 2</td>\n",
              "      <td>NaN</td>\n",
              "      <td>Xenopus tropicalis</td>\n",
              "      <td>83</td>\n",
              "      <td>MYKGIFLCALLAVICANSLA</td>\n",
              "      <td>GWGDTFLKTMAKIAKVGPKLLHS</td>\n",
              "    </tr>\n",
              "  </tbody>\n",
              "</table>\n",
              "<p>2571 rows × 7 columns</p>\n",
              "</div>"
            ],
            "text/plain": [
              "             DADP ID  ...         Bioactive sequence\n",
              "DADP ID               ...                           \n",
              "SP_P86816  SP_P86816  ...                APPGFTPFRIA\n",
              "SP_P86817  SP_P86817  ...                APPGFTPFRID\n",
              "SP_P86812  SP_P86812  ...                  APPGFTPFR\n",
              "SP_P86813  SP_P86813  ...                 APPGFTPFRS\n",
              "SP_P86814  SP_P86814  ...                APPGFTPFRSK\n",
              "...              ...  ...                        ...\n",
              "SP_2596      SP_2596  ...  GWASKIGQALGKVAKVGLQQFIQPK\n",
              "SP_2704      SP_2704  ...  GFWSSALEGLKKFAKGGLEALTNPK\n",
              "SP_2705      SP_2705  ...  GLASTIGSLLGKFAKGGAQAFLQPK\n",
              "SP_2743      SP_2743  ...    GWGDTFGKVLKNFAKVAGVKAAK\n",
              "SP_2742      SP_2742  ...    GWGDTFLKTMAKIAKVGPKLLHS\n",
              "\n",
              "[2571 rows x 7 columns]"
            ]
          },
          "metadata": {
            "tags": []
          }
        },
        {
          "output_type": "stream",
          "text": [
            "\n",
            "\n",
            "Dataframe with only Antimicrobial peptides:\n"
          ],
          "name": "stdout"
        },
        {
          "output_type": "display_data",
          "data": {
            "text/html": [
              "<div>\n",
              "<style scoped>\n",
              "    .dataframe tbody tr th:only-of-type {\n",
              "        vertical-align: middle;\n",
              "    }\n",
              "\n",
              "    .dataframe tbody tr th {\n",
              "        vertical-align: top;\n",
              "    }\n",
              "\n",
              "    .dataframe thead th {\n",
              "        text-align: right;\n",
              "    }\n",
              "</style>\n",
              "<table border=\"1\" class=\"dataframe\">\n",
              "  <thead>\n",
              "    <tr style=\"text-align: right;\">\n",
              "      <th></th>\n",
              "      <th>DADP ID</th>\n",
              "      <th>Entry Name</th>\n",
              "      <th>Uniprot code</th>\n",
              "      <th>Species</th>\n",
              "      <th>Sequence length</th>\n",
              "      <th>Signal sequence</th>\n",
              "      <th>Bioactive sequence</th>\n",
              "    </tr>\n",
              "    <tr>\n",
              "      <th>DADP ID</th>\n",
              "      <th></th>\n",
              "      <th></th>\n",
              "      <th></th>\n",
              "      <th></th>\n",
              "      <th></th>\n",
              "      <th></th>\n",
              "      <th></th>\n",
              "    </tr>\n",
              "  </thead>\n",
              "  <tbody>\n",
              "    <tr>\n",
              "      <th>SP_E1B2U0</th>\n",
              "      <td>SP_E1B2U0</td>\n",
              "      <td>Adenopleurain-A1</td>\n",
              "      <td>E1B2U0</td>\n",
              "      <td>Babina adenopleura</td>\n",
              "      <td>73</td>\n",
              "      <td>MFTLKKSLLLLFFLGIISFSLC</td>\n",
              "      <td>CFFDRIKALTKNVTLELLNTITCKLPVTPP</td>\n",
              "    </tr>\n",
              "    <tr>\n",
              "      <th>SP_E1B2U1</th>\n",
              "      <td>SP_E1B2U1</td>\n",
              "      <td>Adenopleurain-D1</td>\n",
              "      <td>E1B2U1</td>\n",
              "      <td>Babina adenopleura</td>\n",
              "      <td>74</td>\n",
              "      <td>MFTLKKSMILLFFLGTISLSLC</td>\n",
              "      <td>APLVDIGEQYRKYLEEKQNNP</td>\n",
              "    </tr>\n",
              "    <tr>\n",
              "      <th>SP_E1B2U3</th>\n",
              "      <td>SP_E1B2U3</td>\n",
              "      <td>Adenopleurain-D2</td>\n",
              "      <td>E1B2U3</td>\n",
              "      <td>Babina adenopleura</td>\n",
              "      <td>73</td>\n",
              "      <td>MFTLKKSMILLFFLGTISLSLC</td>\n",
              "      <td>APLVDIGEQYRKYLEEKQNNP</td>\n",
              "    </tr>\n",
              "    <tr>\n",
              "      <th>SP_E1B2U2</th>\n",
              "      <td>SP_E1B2U2</td>\n",
              "      <td>Adenopleurain-E1</td>\n",
              "      <td>E1B2U2</td>\n",
              "      <td>Babina adenopleura</td>\n",
              "      <td>61</td>\n",
              "      <td>MFTLKKSLLLLFFLGTINLSLC</td>\n",
              "      <td>FPESSQDLISSLLEK</td>\n",
              "    </tr>\n",
              "    <tr>\n",
              "      <th>SP_P31107</th>\n",
              "      <td>SP_P31107</td>\n",
              "      <td>Adenoregulin</td>\n",
              "      <td>P31107</td>\n",
              "      <td>Phyllomedusa bicolor</td>\n",
              "      <td>81</td>\n",
              "      <td>MAFLKKSLFLVLFLGLVSLSIC</td>\n",
              "      <td>GLWSKIKEVGKEAAKAAAKAAGKAALGAVSEAV</td>\n",
              "    </tr>\n",
              "    <tr>\n",
              "      <th>...</th>\n",
              "      <td>...</td>\n",
              "      <td>...</td>\n",
              "      <td>...</td>\n",
              "      <td>...</td>\n",
              "      <td>...</td>\n",
              "      <td>...</td>\n",
              "      <td>...</td>\n",
              "    </tr>\n",
              "    <tr>\n",
              "      <th>SP_G3XHP8</th>\n",
              "      <td>SP_G3XHP8</td>\n",
              "      <td>Ishikawain-5</td>\n",
              "      <td>G3XHP8</td>\n",
              "      <td>Odorrana ishikawae</td>\n",
              "      <td>69</td>\n",
              "      <td>MFTLKKSLLLLFFLGFISLSLC</td>\n",
              "      <td>SPYRCGSPDSRGSENTRCLIKK</td>\n",
              "    </tr>\n",
              "    <tr>\n",
              "      <th>SP_G3XHP9</th>\n",
              "      <td>SP_G3XHP9</td>\n",
              "      <td>Ishikawain-6</td>\n",
              "      <td>G3XHP9</td>\n",
              "      <td>Odorrana ishikawae</td>\n",
              "      <td>64</td>\n",
              "      <td>MFTLKKSLLLLFFLGFISLSLC</td>\n",
              "      <td>RLMKCYKPNSRGFQLCE</td>\n",
              "    </tr>\n",
              "    <tr>\n",
              "      <th>SP_G3XHQ0</th>\n",
              "      <td>SP_G3XHQ0</td>\n",
              "      <td>Ishikawain-7</td>\n",
              "      <td>G3XHQ0</td>\n",
              "      <td>Odorrana ishikawae</td>\n",
              "      <td>59</td>\n",
              "      <td>MFTLKKSLLLLFFLGIISLSLC</td>\n",
              "      <td>CGYRHGRLNCGRG</td>\n",
              "    </tr>\n",
              "    <tr>\n",
              "      <th>SP_G3XHQ1</th>\n",
              "      <td>SP_G3XHQ1</td>\n",
              "      <td>Ishikawain-8</td>\n",
              "      <td>G3XHQ1</td>\n",
              "      <td>Odorrana ishikawae</td>\n",
              "      <td>72</td>\n",
              "      <td>MFTLKKSLLLLFFLGAISLSLC</td>\n",
              "      <td>GIFSVLNEVCKKNDYKPEICAHFSQNKP</td>\n",
              "    </tr>\n",
              "    <tr>\n",
              "      <th>SP_G3XHP3</th>\n",
              "      <td>SP_G3XHP3</td>\n",
              "      <td>Odorranain-MISa</td>\n",
              "      <td>G3XHP3</td>\n",
              "      <td>Odorrana ishikawae</td>\n",
              "      <td>75</td>\n",
              "      <td>MFTLKKSLLLLFFLEIVSSSPC</td>\n",
              "      <td>ATAWNLGPHGLRPIRPIRIRPLCGKDKS</td>\n",
              "    </tr>\n",
              "  </tbody>\n",
              "</table>\n",
              "<p>2149 rows × 7 columns</p>\n",
              "</div>"
            ],
            "text/plain": [
              "             DADP ID  ...                 Bioactive sequence\n",
              "DADP ID               ...                                   \n",
              "SP_E1B2U0  SP_E1B2U0  ...     CFFDRIKALTKNVTLELLNTITCKLPVTPP\n",
              "SP_E1B2U1  SP_E1B2U1  ...              APLVDIGEQYRKYLEEKQNNP\n",
              "SP_E1B2U3  SP_E1B2U3  ...              APLVDIGEQYRKYLEEKQNNP\n",
              "SP_E1B2U2  SP_E1B2U2  ...                    FPESSQDLISSLLEK\n",
              "SP_P31107  SP_P31107  ...  GLWSKIKEVGKEAAKAAAKAAGKAALGAVSEAV\n",
              "...              ...  ...                                ...\n",
              "SP_G3XHP8  SP_G3XHP8  ...             SPYRCGSPDSRGSENTRCLIKK\n",
              "SP_G3XHP9  SP_G3XHP9  ...                  RLMKCYKPNSRGFQLCE\n",
              "SP_G3XHQ0  SP_G3XHQ0  ...                      CGYRHGRLNCGRG\n",
              "SP_G3XHQ1  SP_G3XHQ1  ...       GIFSVLNEVCKKNDYKPEICAHFSQNKP\n",
              "SP_G3XHP3  SP_G3XHP3  ...       ATAWNLGPHGLRPIRPIRIRPLCGKDKS\n",
              "\n",
              "[2149 rows x 7 columns]"
            ]
          },
          "metadata": {
            "tags": []
          }
        }
      ]
    },
    {
      "cell_type": "markdown",
      "metadata": {
        "id": "MopGAWTAsoNe"
      },
      "source": [
        "To construct the negative dataframe, we will find the list of all DADP IDs (unique identifiers) in the positive dataframe, and drop rows that contain these values from the \"All Data\" dataframe"
      ]
    },
    {
      "cell_type": "code",
      "metadata": {
        "id": "mGJSCcOTilT-",
        "colab": {
          "base_uri": "https://localhost:8080/",
          "height": 420
        },
        "outputId": "5146fea5-f4cc-4800-e21c-bb79b5a35692"
      },
      "source": [
        "posID_List = posDF[\"DADP ID\"].tolist()\n",
        "negDF = allDataDF.drop(posID_List)\n",
        "negDF"
      ],
      "execution_count": null,
      "outputs": [
        {
          "output_type": "execute_result",
          "data": {
            "text/html": [
              "<div>\n",
              "<style scoped>\n",
              "    .dataframe tbody tr th:only-of-type {\n",
              "        vertical-align: middle;\n",
              "    }\n",
              "\n",
              "    .dataframe tbody tr th {\n",
              "        vertical-align: top;\n",
              "    }\n",
              "\n",
              "    .dataframe thead th {\n",
              "        text-align: right;\n",
              "    }\n",
              "</style>\n",
              "<table border=\"1\" class=\"dataframe\">\n",
              "  <thead>\n",
              "    <tr style=\"text-align: right;\">\n",
              "      <th></th>\n",
              "      <th>DADP ID</th>\n",
              "      <th>Entry Name</th>\n",
              "      <th>Uniprot code</th>\n",
              "      <th>Species</th>\n",
              "      <th>Sequence length</th>\n",
              "      <th>Signal sequence</th>\n",
              "      <th>Bioactive sequence</th>\n",
              "    </tr>\n",
              "    <tr>\n",
              "      <th>DADP ID</th>\n",
              "      <th></th>\n",
              "      <th></th>\n",
              "      <th></th>\n",
              "      <th></th>\n",
              "      <th></th>\n",
              "      <th></th>\n",
              "      <th></th>\n",
              "    </tr>\n",
              "  </thead>\n",
              "  <tbody>\n",
              "    <tr>\n",
              "      <th>SP_P86816</th>\n",
              "      <td>SP_P86816</td>\n",
              "      <td>[Ala1,Thr6,Ala11]-phyllokinin</td>\n",
              "      <td>P86816</td>\n",
              "      <td>Physalaemus signifer</td>\n",
              "      <td>11</td>\n",
              "      <td>/</td>\n",
              "      <td>APPGFTPFRIA</td>\n",
              "    </tr>\n",
              "    <tr>\n",
              "      <th>SP_P86817</th>\n",
              "      <td>SP_P86817</td>\n",
              "      <td>[Ala1,Thr6,Asp11]-phyllokinin</td>\n",
              "      <td>P86817</td>\n",
              "      <td>Physalaemus signifer</td>\n",
              "      <td>11</td>\n",
              "      <td>/</td>\n",
              "      <td>APPGFTPFRID</td>\n",
              "    </tr>\n",
              "    <tr>\n",
              "      <th>SP_P86812</th>\n",
              "      <td>SP_P86812</td>\n",
              "      <td>[Ala1,Thr6]-bradykinin</td>\n",
              "      <td>P86812</td>\n",
              "      <td>Physalaemus signifer</td>\n",
              "      <td>9</td>\n",
              "      <td>/</td>\n",
              "      <td>APPGFTPFR</td>\n",
              "    </tr>\n",
              "    <tr>\n",
              "      <th>SP_P86813</th>\n",
              "      <td>SP_P86813</td>\n",
              "      <td>[Ala1,Thr6]-bradykinyl-Ser</td>\n",
              "      <td>P86813</td>\n",
              "      <td>Physalaemus signifer</td>\n",
              "      <td>10</td>\n",
              "      <td>/</td>\n",
              "      <td>APPGFTPFRS</td>\n",
              "    </tr>\n",
              "    <tr>\n",
              "      <th>SP_P86814</th>\n",
              "      <td>SP_P86814</td>\n",
              "      <td>[Ala1,Thr6]-bradykinyl-Ser,Lys</td>\n",
              "      <td>P86814</td>\n",
              "      <td>Physalaemus signifer</td>\n",
              "      <td>11</td>\n",
              "      <td>/</td>\n",
              "      <td>APPGFTPFRSK</td>\n",
              "    </tr>\n",
              "    <tr>\n",
              "      <th>...</th>\n",
              "      <td>...</td>\n",
              "      <td>...</td>\n",
              "      <td>...</td>\n",
              "      <td>...</td>\n",
              "      <td>...</td>\n",
              "      <td>...</td>\n",
              "      <td>...</td>\n",
              "    </tr>\n",
              "    <tr>\n",
              "      <th>SP_2850</th>\n",
              "      <td>SP_2850</td>\n",
              "      <td>Wuchuanin-A1</td>\n",
              "      <td>NaN</td>\n",
              "      <td>Odorrana wuchuanensis</td>\n",
              "      <td>59</td>\n",
              "      <td>MFTLKKSLLLLFFLGTISLSLC</td>\n",
              "      <td>APDRPRKFCGILG</td>\n",
              "    </tr>\n",
              "    <tr>\n",
              "      <th>SP_2852</th>\n",
              "      <td>SP_2852</td>\n",
              "      <td>Wuchuanin-C1</td>\n",
              "      <td>NaN</td>\n",
              "      <td>Odorrana wuchuanensis</td>\n",
              "      <td>59</td>\n",
              "      <td>MFTLKKSMLLLFFLGTISLSLC</td>\n",
              "      <td>VFLGNIVSMGKKI</td>\n",
              "    </tr>\n",
              "    <tr>\n",
              "      <th>SP_2853</th>\n",
              "      <td>SP_2853</td>\n",
              "      <td>Wuchuanin-D1</td>\n",
              "      <td>NaN</td>\n",
              "      <td>Odorrana wuchuanensis</td>\n",
              "      <td>55</td>\n",
              "      <td>MFTLKKSLLLLFFLGTINLSLC</td>\n",
              "      <td>DAAVEPELYHWGKVWLPN</td>\n",
              "    </tr>\n",
              "    <tr>\n",
              "      <th>SP_2854</th>\n",
              "      <td>SP_2854</td>\n",
              "      <td>Wuchuanin-E1</td>\n",
              "      <td>NaN</td>\n",
              "      <td>Odorrana wuchuanensis</td>\n",
              "      <td>67</td>\n",
              "      <td>MFTLKKSLLLIVLLGIISLSLC</td>\n",
              "      <td>CVDIGFSPTGKRPPFCPYPG</td>\n",
              "    </tr>\n",
              "    <tr>\n",
              "      <th>SP_Q09022</th>\n",
              "      <td>SP_Q09022</td>\n",
              "      <td>Xenoxin-1</td>\n",
              "      <td>Q09022</td>\n",
              "      <td>Xenopus laevis</td>\n",
              "      <td>84</td>\n",
              "      <td>MRYAIVFFLVCVITLGEA</td>\n",
              "      <td>LKCVNLQANGIKMTQECAKEDTKCLTLRSLKKTLKFCASGRTCTTM...</td>\n",
              "    </tr>\n",
              "  </tbody>\n",
              "</table>\n",
              "<p>422 rows × 7 columns</p>\n",
              "</div>"
            ],
            "text/plain": [
              "             DADP ID  ...                                 Bioactive sequence\n",
              "DADP ID               ...                                                   \n",
              "SP_P86816  SP_P86816  ...                                        APPGFTPFRIA\n",
              "SP_P86817  SP_P86817  ...                                        APPGFTPFRID\n",
              "SP_P86812  SP_P86812  ...                                          APPGFTPFR\n",
              "SP_P86813  SP_P86813  ...                                         APPGFTPFRS\n",
              "SP_P86814  SP_P86814  ...                                        APPGFTPFRSK\n",
              "...              ...  ...                                                ...\n",
              "SP_2850      SP_2850  ...                                      APDRPRKFCGILG\n",
              "SP_2852      SP_2852  ...                                      VFLGNIVSMGKKI\n",
              "SP_2853      SP_2853  ...                                 DAAVEPELYHWGKVWLPN\n",
              "SP_2854      SP_2854  ...                               CVDIGFSPTGKRPPFCPYPG\n",
              "SP_Q09022  SP_Q09022  ...  LKCVNLQANGIKMTQECAKEDTKCLTLRSLKKTLKFCASGRTCTTM...\n",
              "\n",
              "[422 rows x 7 columns]"
            ]
          },
          "metadata": {
            "tags": []
          },
          "execution_count": 4
        }
      ]
    },
    {
      "cell_type": "markdown",
      "metadata": {
        "id": "INaf1RhLqOkZ"
      },
      "source": [
        "# Preprocessing:\n",
        "The data will basically be a set of arrays of characters. These characters can  be (G, P, A, V, L, I, M, C, F, Y, W, H, K, R, Q, N, E, D, S, T, or X) where each character is representative of an amino acid. Some peptides only have a length of 6 amino acids, while others have lengths of 50. Therefore to input data into the model, the following steps need ot occur:\n",
        "- truncation: sequences of amino acids will all be truncated to the same \"k\" length\n",
        "  - some peptides will need to be truncated into multiple sequences\n",
        "- padding: sequences that are too short to be truncated to this length will need to be padded on both sides by 0's\n",
        "- uppercasing: in case some of the data is not uppercased (this is the convention with peptide sequences), we need to uppercase all characters"
      ]
    },
    {
      "cell_type": "markdown",
      "metadata": {
        "id": "JC_9ImLCs6JV"
      },
      "source": [
        "Before we pre-process data, we should ensure that the length that we truncate and pad sequences to is a good length. What length should we use? We can look at the Average length and the mode of the sequence length is to get a better idea"
      ]
    },
    {
      "cell_type": "code",
      "metadata": {
        "id": "FRGguQYClfTQ",
        "colab": {
          "base_uri": "https://localhost:8080/",
          "height": 50
        },
        "outputId": "a794dd1a-736e-442b-ec2b-fb56db7c45de"
      },
      "source": [
        "SeqList = negDF['Bioactive sequence'].tolist() + posDF['Bioactive sequence'].tolist()\n",
        "res = sum(map(len, SeqList))/float(len(SeqList))\n",
        "print(\"The Mean length of a sequence is: \", res)\n",
        "\n",
        "SeqList.sort(key = len)\n",
        "print(\"The Mode length of a sequence is: \", len(SeqList[int(len(SeqList)/2)]))"
      ],
      "execution_count": null,
      "outputs": [
        {
          "output_type": "stream",
          "text": [
            "The Mean length of a sequence is:  22.901205756514976\n",
            "The Mode length of a sequence is:  23\n"
          ],
          "name": "stdout"
        }
      ]
    },
    {
      "cell_type": "code",
      "metadata": {
        "id": "SK1R7wxffKMH",
        "colab": {
          "base_uri": "https://localhost:8080/",
          "height": 313
        },
        "outputId": "8045b256-332b-43b9-8526-4313284bdfc0"
      },
      "source": [
        "import numpy as np\n",
        "from matplotlib import pyplot as plt \n",
        "import scipy.stats as stats\n",
        "SeqList = negDF['Bioactive sequence'].tolist() + posDF['Bioactive sequence'].tolist()\n",
        "\n",
        "lengths = [0]*len(SeqList)\n",
        "for i in range(len(SeqList)):\n",
        "  lengths[i] = len(SeqList[i])\n",
        "\n",
        "res = np.mean(np.asarray(lengths))\n",
        "print(\"The Mean length of a sequence is: \", res)\n",
        "\n",
        "res = stats.mode(np.asarray(lengths))\n",
        "print(\"The Mode length of a sequence is: \", res[0])\n",
        "\n",
        "plt.hist(lengths, bins = range(0,60,5)) \n",
        "plt.title(\"histogram\") \n",
        "plt.show()"
      ],
      "execution_count": null,
      "outputs": [
        {
          "output_type": "stream",
          "text": [
            "The Mean length of a sequence is:  22.901205756514976\n",
            "The Mode length of a sequence is:  [24]\n"
          ],
          "name": "stdout"
        },
        {
          "output_type": "display_data",
          "data": {
            "image/png": "[encoded data removed]",
            "text/plain": [
              "<Figure size 432x288 with 1 Axes>"
            ]
          },
          "metadata": {
            "tags": [],
            "needs_background": "light"
          }
        }
      ]
    },
    {
      "cell_type": "markdown",
      "metadata": {
        "id": "H0kerkrWuvpB"
      },
      "source": [
        "First, let's uppercase the amino acids, just in case"
      ]
    },
    {
      "cell_type": "code",
      "metadata": {
        "id": "FDdI5ukQuu-p",
        "colab": {
          "base_uri": "https://localhost:8080/",
          "height": 397
        },
        "outputId": "1f5447d1-da0f-4c5a-e161-e63ca534703a"
      },
      "source": [
        "negDF['Bioactive sequence'] = (negDF['Bioactive sequence'].str.upper())\n",
        "print(\"Negative DF\")\n",
        "display(negDF.head(3))\n",
        "\n",
        "posDF['Bioactive sequence'] = (posDF['Bioactive sequence'].str.upper())\n",
        "print(\"\\n\\nPositive DF\")\n",
        "display(posDF.head(3))"
      ],
      "execution_count": null,
      "outputs": [
        {
          "output_type": "stream",
          "text": [
            "Negative DF\n"
          ],
          "name": "stdout"
        },
        {
          "output_type": "display_data",
          "data": {
            "text/html": [
              "<div>\n",
              "<style scoped>\n",
              "    .dataframe tbody tr th:only-of-type {\n",
              "        vertical-align: middle;\n",
              "    }\n",
              "\n",
              "    .dataframe tbody tr th {\n",
              "        vertical-align: top;\n",
              "    }\n",
              "\n",
              "    .dataframe thead th {\n",
              "        text-align: right;\n",
              "    }\n",
              "</style>\n",
              "<table border=\"1\" class=\"dataframe\">\n",
              "  <thead>\n",
              "    <tr style=\"text-align: right;\">\n",
              "      <th></th>\n",
              "      <th>DADP ID</th>\n",
              "      <th>Entry Name</th>\n",
              "      <th>Uniprot code</th>\n",
              "      <th>Species</th>\n",
              "      <th>Sequence length</th>\n",
              "      <th>Signal sequence</th>\n",
              "      <th>Bioactive sequence</th>\n",
              "    </tr>\n",
              "    <tr>\n",
              "      <th>DADP ID</th>\n",
              "      <th></th>\n",
              "      <th></th>\n",
              "      <th></th>\n",
              "      <th></th>\n",
              "      <th></th>\n",
              "      <th></th>\n",
              "      <th></th>\n",
              "    </tr>\n",
              "  </thead>\n",
              "  <tbody>\n",
              "    <tr>\n",
              "      <th>SP_P86816</th>\n",
              "      <td>SP_P86816</td>\n",
              "      <td>[Ala1,Thr6,Ala11]-phyllokinin</td>\n",
              "      <td>P86816</td>\n",
              "      <td>Physalaemus signifer</td>\n",
              "      <td>11</td>\n",
              "      <td>/</td>\n",
              "      <td>APPGFTPFRIA</td>\n",
              "    </tr>\n",
              "    <tr>\n",
              "      <th>SP_P86817</th>\n",
              "      <td>SP_P86817</td>\n",
              "      <td>[Ala1,Thr6,Asp11]-phyllokinin</td>\n",
              "      <td>P86817</td>\n",
              "      <td>Physalaemus signifer</td>\n",
              "      <td>11</td>\n",
              "      <td>/</td>\n",
              "      <td>APPGFTPFRID</td>\n",
              "    </tr>\n",
              "    <tr>\n",
              "      <th>SP_P86812</th>\n",
              "      <td>SP_P86812</td>\n",
              "      <td>[Ala1,Thr6]-bradykinin</td>\n",
              "      <td>P86812</td>\n",
              "      <td>Physalaemus signifer</td>\n",
              "      <td>9</td>\n",
              "      <td>/</td>\n",
              "      <td>APPGFTPFR</td>\n",
              "    </tr>\n",
              "  </tbody>\n",
              "</table>\n",
              "</div>"
            ],
            "text/plain": [
              "             DADP ID  ... Bioactive sequence\n",
              "DADP ID               ...                   \n",
              "SP_P86816  SP_P86816  ...        APPGFTPFRIA\n",
              "SP_P86817  SP_P86817  ...        APPGFTPFRID\n",
              "SP_P86812  SP_P86812  ...          APPGFTPFR\n",
              "\n",
              "[3 rows x 7 columns]"
            ]
          },
          "metadata": {
            "tags": []
          }
        },
        {
          "output_type": "stream",
          "text": [
            "\n",
            "\n",
            "Positive DF\n"
          ],
          "name": "stdout"
        },
        {
          "output_type": "display_data",
          "data": {
            "text/html": [
              "<div>\n",
              "<style scoped>\n",
              "    .dataframe tbody tr th:only-of-type {\n",
              "        vertical-align: middle;\n",
              "    }\n",
              "\n",
              "    .dataframe tbody tr th {\n",
              "        vertical-align: top;\n",
              "    }\n",
              "\n",
              "    .dataframe thead th {\n",
              "        text-align: right;\n",
              "    }\n",
              "</style>\n",
              "<table border=\"1\" class=\"dataframe\">\n",
              "  <thead>\n",
              "    <tr style=\"text-align: right;\">\n",
              "      <th></th>\n",
              "      <th>DADP ID</th>\n",
              "      <th>Entry Name</th>\n",
              "      <th>Uniprot code</th>\n",
              "      <th>Species</th>\n",
              "      <th>Sequence length</th>\n",
              "      <th>Signal sequence</th>\n",
              "      <th>Bioactive sequence</th>\n",
              "    </tr>\n",
              "    <tr>\n",
              "      <th>DADP ID</th>\n",
              "      <th></th>\n",
              "      <th></th>\n",
              "      <th></th>\n",
              "      <th></th>\n",
              "      <th></th>\n",
              "      <th></th>\n",
              "      <th></th>\n",
              "    </tr>\n",
              "  </thead>\n",
              "  <tbody>\n",
              "    <tr>\n",
              "      <th>SP_E1B2U0</th>\n",
              "      <td>SP_E1B2U0</td>\n",
              "      <td>Adenopleurain-A1</td>\n",
              "      <td>E1B2U0</td>\n",
              "      <td>Babina adenopleura</td>\n",
              "      <td>73</td>\n",
              "      <td>MFTLKKSLLLLFFLGIISFSLC</td>\n",
              "      <td>CFFDRIKALTKNVTLELLNTITCKLPVTPP</td>\n",
              "    </tr>\n",
              "    <tr>\n",
              "      <th>SP_E1B2U1</th>\n",
              "      <td>SP_E1B2U1</td>\n",
              "      <td>Adenopleurain-D1</td>\n",
              "      <td>E1B2U1</td>\n",
              "      <td>Babina adenopleura</td>\n",
              "      <td>74</td>\n",
              "      <td>MFTLKKSMILLFFLGTISLSLC</td>\n",
              "      <td>APLVDIGEQYRKYLEEKQNNP</td>\n",
              "    </tr>\n",
              "    <tr>\n",
              "      <th>SP_E1B2U3</th>\n",
              "      <td>SP_E1B2U3</td>\n",
              "      <td>Adenopleurain-D2</td>\n",
              "      <td>E1B2U3</td>\n",
              "      <td>Babina adenopleura</td>\n",
              "      <td>73</td>\n",
              "      <td>MFTLKKSMILLFFLGTISLSLC</td>\n",
              "      <td>APLVDIGEQYRKYLEEKQNNP</td>\n",
              "    </tr>\n",
              "  </tbody>\n",
              "</table>\n",
              "</div>"
            ],
            "text/plain": [
              "             DADP ID  ...              Bioactive sequence\n",
              "DADP ID               ...                                \n",
              "SP_E1B2U0  SP_E1B2U0  ...  CFFDRIKALTKNVTLELLNTITCKLPVTPP\n",
              "SP_E1B2U1  SP_E1B2U1  ...           APLVDIGEQYRKYLEEKQNNP\n",
              "SP_E1B2U3  SP_E1B2U3  ...           APLVDIGEQYRKYLEEKQNNP\n",
              "\n",
              "[3 rows x 7 columns]"
            ]
          },
          "metadata": {
            "tags": []
          }
        }
      ]
    },
    {
      "cell_type": "markdown",
      "metadata": {
        "id": "JOEYXfiYtLDL"
      },
      "source": [
        "First, we Truncate sequences, slicing them so we only get the first 22 characters"
      ]
    },
    {
      "cell_type": "code",
      "metadata": {
        "id": "UZeI_pd8oAr9",
        "colab": {
          "base_uri": "https://localhost:8080/",
          "height": 465
        },
        "outputId": "b3f6b8ac-9298-480c-c140-78299712a160"
      },
      "source": [
        "negDF['TruncSequence'] = (negDF['Bioactive sequence'].str.slice(0,22))\n",
        "print(\"Negative DF\")\n",
        "display(negDF.head(3))\n",
        "\n",
        "posDF['TruncSequence'] = (posDF['Bioactive sequence'].str.slice(0,22))\n",
        "print(\"\\n\\nPositive DF\")\n",
        "display(posDF.head(3))"
      ],
      "execution_count": null,
      "outputs": [
        {
          "output_type": "stream",
          "text": [
            "Negative DF\n"
          ],
          "name": "stdout"
        },
        {
          "output_type": "display_data",
          "data": {
            "text/html": [
              "<div>\n",
              "<style scoped>\n",
              "    .dataframe tbody tr th:only-of-type {\n",
              "        vertical-align: middle;\n",
              "    }\n",
              "\n",
              "    .dataframe tbody tr th {\n",
              "        vertical-align: top;\n",
              "    }\n",
              "\n",
              "    .dataframe thead th {\n",
              "        text-align: right;\n",
              "    }\n",
              "</style>\n",
              "<table border=\"1\" class=\"dataframe\">\n",
              "  <thead>\n",
              "    <tr style=\"text-align: right;\">\n",
              "      <th></th>\n",
              "      <th>DADP ID</th>\n",
              "      <th>Entry Name</th>\n",
              "      <th>Uniprot code</th>\n",
              "      <th>Species</th>\n",
              "      <th>Sequence length</th>\n",
              "      <th>Signal sequence</th>\n",
              "      <th>Bioactive sequence</th>\n",
              "      <th>TruncSequence</th>\n",
              "    </tr>\n",
              "    <tr>\n",
              "      <th>DADP ID</th>\n",
              "      <th></th>\n",
              "      <th></th>\n",
              "      <th></th>\n",
              "      <th></th>\n",
              "      <th></th>\n",
              "      <th></th>\n",
              "      <th></th>\n",
              "      <th></th>\n",
              "    </tr>\n",
              "  </thead>\n",
              "  <tbody>\n",
              "    <tr>\n",
              "      <th>SP_P86816</th>\n",
              "      <td>SP_P86816</td>\n",
              "      <td>[Ala1,Thr6,Ala11]-phyllokinin</td>\n",
              "      <td>P86816</td>\n",
              "      <td>Physalaemus signifer</td>\n",
              "      <td>11</td>\n",
              "      <td>/</td>\n",
              "      <td>APPGFTPFRIA</td>\n",
              "      <td>APPGFTPFRIA</td>\n",
              "    </tr>\n",
              "    <tr>\n",
              "      <th>SP_P86817</th>\n",
              "      <td>SP_P86817</td>\n",
              "      <td>[Ala1,Thr6,Asp11]-phyllokinin</td>\n",
              "      <td>P86817</td>\n",
              "      <td>Physalaemus signifer</td>\n",
              "      <td>11</td>\n",
              "      <td>/</td>\n",
              "      <td>APPGFTPFRID</td>\n",
              "      <td>APPGFTPFRID</td>\n",
              "    </tr>\n",
              "    <tr>\n",
              "      <th>SP_P86812</th>\n",
              "      <td>SP_P86812</td>\n",
              "      <td>[Ala1,Thr6]-bradykinin</td>\n",
              "      <td>P86812</td>\n",
              "      <td>Physalaemus signifer</td>\n",
              "      <td>9</td>\n",
              "      <td>/</td>\n",
              "      <td>APPGFTPFR</td>\n",
              "      <td>APPGFTPFR</td>\n",
              "    </tr>\n",
              "  </tbody>\n",
              "</table>\n",
              "</div>"
            ],
            "text/plain": [
              "             DADP ID  ... TruncSequence\n",
              "DADP ID               ...              \n",
              "SP_P86816  SP_P86816  ...   APPGFTPFRIA\n",
              "SP_P86817  SP_P86817  ...   APPGFTPFRID\n",
              "SP_P86812  SP_P86812  ...     APPGFTPFR\n",
              "\n",
              "[3 rows x 8 columns]"
            ]
          },
          "metadata": {
            "tags": []
          }
        },
        {
          "output_type": "stream",
          "text": [
            "\n",
            "\n",
            "Positive DF\n"
          ],
          "name": "stdout"
        },
        {
          "output_type": "display_data",
          "data": {
            "text/html": [
              "<div>\n",
              "<style scoped>\n",
              "    .dataframe tbody tr th:only-of-type {\n",
              "        vertical-align: middle;\n",
              "    }\n",
              "\n",
              "    .dataframe tbody tr th {\n",
              "        vertical-align: top;\n",
              "    }\n",
              "\n",
              "    .dataframe thead th {\n",
              "        text-align: right;\n",
              "    }\n",
              "</style>\n",
              "<table border=\"1\" class=\"dataframe\">\n",
              "  <thead>\n",
              "    <tr style=\"text-align: right;\">\n",
              "      <th></th>\n",
              "      <th>DADP ID</th>\n",
              "      <th>Entry Name</th>\n",
              "      <th>Uniprot code</th>\n",
              "      <th>Species</th>\n",
              "      <th>Sequence length</th>\n",
              "      <th>Signal sequence</th>\n",
              "      <th>Bioactive sequence</th>\n",
              "      <th>TruncSequence</th>\n",
              "    </tr>\n",
              "    <tr>\n",
              "      <th>DADP ID</th>\n",
              "      <th></th>\n",
              "      <th></th>\n",
              "      <th></th>\n",
              "      <th></th>\n",
              "      <th></th>\n",
              "      <th></th>\n",
              "      <th></th>\n",
              "      <th></th>\n",
              "    </tr>\n",
              "  </thead>\n",
              "  <tbody>\n",
              "    <tr>\n",
              "      <th>SP_E1B2U0</th>\n",
              "      <td>SP_E1B2U0</td>\n",
              "      <td>Adenopleurain-A1</td>\n",
              "      <td>E1B2U0</td>\n",
              "      <td>Babina adenopleura</td>\n",
              "      <td>73</td>\n",
              "      <td>MFTLKKSLLLLFFLGIISFSLC</td>\n",
              "      <td>CFFDRIKALTKNVTLELLNTITCKLPVTPP</td>\n",
              "      <td>CFFDRIKALTKNVTLELLNTIT</td>\n",
              "    </tr>\n",
              "    <tr>\n",
              "      <th>SP_E1B2U1</th>\n",
              "      <td>SP_E1B2U1</td>\n",
              "      <td>Adenopleurain-D1</td>\n",
              "      <td>E1B2U1</td>\n",
              "      <td>Babina adenopleura</td>\n",
              "      <td>74</td>\n",
              "      <td>MFTLKKSMILLFFLGTISLSLC</td>\n",
              "      <td>APLVDIGEQYRKYLEEKQNNP</td>\n",
              "      <td>APLVDIGEQYRKYLEEKQNNP</td>\n",
              "    </tr>\n",
              "    <tr>\n",
              "      <th>SP_E1B2U3</th>\n",
              "      <td>SP_E1B2U3</td>\n",
              "      <td>Adenopleurain-D2</td>\n",
              "      <td>E1B2U3</td>\n",
              "      <td>Babina adenopleura</td>\n",
              "      <td>73</td>\n",
              "      <td>MFTLKKSMILLFFLGTISLSLC</td>\n",
              "      <td>APLVDIGEQYRKYLEEKQNNP</td>\n",
              "      <td>APLVDIGEQYRKYLEEKQNNP</td>\n",
              "    </tr>\n",
              "  </tbody>\n",
              "</table>\n",
              "</div>"
            ],
            "text/plain": [
              "             DADP ID  ...           TruncSequence\n",
              "DADP ID               ...                        \n",
              "SP_E1B2U0  SP_E1B2U0  ...  CFFDRIKALTKNVTLELLNTIT\n",
              "SP_E1B2U1  SP_E1B2U1  ...   APLVDIGEQYRKYLEEKQNNP\n",
              "SP_E1B2U3  SP_E1B2U3  ...   APLVDIGEQYRKYLEEKQNNP\n",
              "\n",
              "[3 rows x 8 columns]"
            ]
          },
          "metadata": {
            "tags": []
          }
        }
      ]
    },
    {
      "cell_type": "markdown",
      "metadata": {
        "id": "cLMLwpWutbPR"
      },
      "source": [
        "Next, we pad the sequences, so shorter sequences are Right padded with '#' characters. This will be the final sequence that we can use as input into the model"
      ]
    },
    {
      "cell_type": "code",
      "metadata": {
        "id": "_nhquFxbthp_",
        "colab": {
          "base_uri": "https://localhost:8080/",
          "height": 553
        },
        "outputId": "509ea408-44ae-40df-a3b0-67bc03b02fd0"
      },
      "source": [
        "negDF['ModSequence'] = (negDF['TruncSequence'].str.pad(22,\"right\",\"#\"))\n",
        "print(\"Negative DF\")\n",
        "display(negDF.head(3))\n",
        "\n",
        "posDF['ModSequence'] = (posDF['TruncSequence'].str.pad(22,\"right\",\"#\"))\n",
        "print(\"\\n\\nPositive DF\")\n",
        "display(posDF.head(3))"
      ],
      "execution_count": null,
      "outputs": [
        {
          "output_type": "stream",
          "text": [
            "Negative DF\n"
          ],
          "name": "stdout"
        },
        {
          "output_type": "display_data",
          "data": {
            "text/html": [
              "<div>\n",
              "<style scoped>\n",
              "    .dataframe tbody tr th:only-of-type {\n",
              "        vertical-align: middle;\n",
              "    }\n",
              "\n",
              "    .dataframe tbody tr th {\n",
              "        vertical-align: top;\n",
              "    }\n",
              "\n",
              "    .dataframe thead th {\n",
              "        text-align: right;\n",
              "    }\n",
              "</style>\n",
              "<table border=\"1\" class=\"dataframe\">\n",
              "  <thead>\n",
              "    <tr style=\"text-align: right;\">\n",
              "      <th></th>\n",
              "      <th>DADP ID</th>\n",
              "      <th>Entry Name</th>\n",
              "      <th>Uniprot code</th>\n",
              "      <th>Species</th>\n",
              "      <th>Sequence length</th>\n",
              "      <th>Signal sequence</th>\n",
              "      <th>Bioactive sequence</th>\n",
              "      <th>TruncSequence</th>\n",
              "      <th>ModSequence</th>\n",
              "    </tr>\n",
              "    <tr>\n",
              "      <th>DADP ID</th>\n",
              "      <th></th>\n",
              "      <th></th>\n",
              "      <th></th>\n",
              "      <th></th>\n",
              "      <th></th>\n",
              "      <th></th>\n",
              "      <th></th>\n",
              "      <th></th>\n",
              "      <th></th>\n",
              "    </tr>\n",
              "  </thead>\n",
              "  <tbody>\n",
              "    <tr>\n",
              "      <th>SP_P86816</th>\n",
              "      <td>SP_P86816</td>\n",
              "      <td>[Ala1,Thr6,Ala11]-phyllokinin</td>\n",
              "      <td>P86816</td>\n",
              "      <td>Physalaemus signifer</td>\n",
              "      <td>11</td>\n",
              "      <td>/</td>\n",
              "      <td>APPGFTPFRIA</td>\n",
              "      <td>APPGFTPFRIA</td>\n",
              "      <td>APPGFTPFRIA###########</td>\n",
              "    </tr>\n",
              "    <tr>\n",
              "      <th>SP_P86817</th>\n",
              "      <td>SP_P86817</td>\n",
              "      <td>[Ala1,Thr6,Asp11]-phyllokinin</td>\n",
              "      <td>P86817</td>\n",
              "      <td>Physalaemus signifer</td>\n",
              "      <td>11</td>\n",
              "      <td>/</td>\n",
              "      <td>APPGFTPFRID</td>\n",
              "      <td>APPGFTPFRID</td>\n",
              "      <td>APPGFTPFRID###########</td>\n",
              "    </tr>\n",
              "    <tr>\n",
              "      <th>SP_P86812</th>\n",
              "      <td>SP_P86812</td>\n",
              "      <td>[Ala1,Thr6]-bradykinin</td>\n",
              "      <td>P86812</td>\n",
              "      <td>Physalaemus signifer</td>\n",
              "      <td>9</td>\n",
              "      <td>/</td>\n",
              "      <td>APPGFTPFR</td>\n",
              "      <td>APPGFTPFR</td>\n",
              "      <td>APPGFTPFR#############</td>\n",
              "    </tr>\n",
              "  </tbody>\n",
              "</table>\n",
              "</div>"
            ],
            "text/plain": [
              "             DADP ID  ...             ModSequence\n",
              "DADP ID               ...                        \n",
              "SP_P86816  SP_P86816  ...  APPGFTPFRIA###########\n",
              "SP_P86817  SP_P86817  ...  APPGFTPFRID###########\n",
              "SP_P86812  SP_P86812  ...  APPGFTPFR#############\n",
              "\n",
              "[3 rows x 9 columns]"
            ]
          },
          "metadata": {
            "tags": []
          }
        },
        {
          "output_type": "stream",
          "text": [
            "\n",
            "\n",
            "Positive DF\n"
          ],
          "name": "stdout"
        },
        {
          "output_type": "display_data",
          "data": {
            "text/html": [
              "<div>\n",
              "<style scoped>\n",
              "    .dataframe tbody tr th:only-of-type {\n",
              "        vertical-align: middle;\n",
              "    }\n",
              "\n",
              "    .dataframe tbody tr th {\n",
              "        vertical-align: top;\n",
              "    }\n",
              "\n",
              "    .dataframe thead th {\n",
              "        text-align: right;\n",
              "    }\n",
              "</style>\n",
              "<table border=\"1\" class=\"dataframe\">\n",
              "  <thead>\n",
              "    <tr style=\"text-align: right;\">\n",
              "      <th></th>\n",
              "      <th>DADP ID</th>\n",
              "      <th>Entry Name</th>\n",
              "      <th>Uniprot code</th>\n",
              "      <th>Species</th>\n",
              "      <th>Sequence length</th>\n",
              "      <th>Signal sequence</th>\n",
              "      <th>Bioactive sequence</th>\n",
              "      <th>TruncSequence</th>\n",
              "      <th>ModSequence</th>\n",
              "    </tr>\n",
              "    <tr>\n",
              "      <th>DADP ID</th>\n",
              "      <th></th>\n",
              "      <th></th>\n",
              "      <th></th>\n",
              "      <th></th>\n",
              "      <th></th>\n",
              "      <th></th>\n",
              "      <th></th>\n",
              "      <th></th>\n",
              "      <th></th>\n",
              "    </tr>\n",
              "  </thead>\n",
              "  <tbody>\n",
              "    <tr>\n",
              "      <th>SP_E1B2U0</th>\n",
              "      <td>SP_E1B2U0</td>\n",
              "      <td>Adenopleurain-A1</td>\n",
              "      <td>E1B2U0</td>\n",
              "      <td>Babina adenopleura</td>\n",
              "      <td>73</td>\n",
              "      <td>MFTLKKSLLLLFFLGIISFSLC</td>\n",
              "      <td>CFFDRIKALTKNVTLELLNTITCKLPVTPP</td>\n",
              "      <td>CFFDRIKALTKNVTLELLNTIT</td>\n",
              "      <td>CFFDRIKALTKNVTLELLNTIT</td>\n",
              "    </tr>\n",
              "    <tr>\n",
              "      <th>SP_E1B2U1</th>\n",
              "      <td>SP_E1B2U1</td>\n",
              "      <td>Adenopleurain-D1</td>\n",
              "      <td>E1B2U1</td>\n",
              "      <td>Babina adenopleura</td>\n",
              "      <td>74</td>\n",
              "      <td>MFTLKKSMILLFFLGTISLSLC</td>\n",
              "      <td>APLVDIGEQYRKYLEEKQNNP</td>\n",
              "      <td>APLVDIGEQYRKYLEEKQNNP</td>\n",
              "      <td>APLVDIGEQYRKYLEEKQNNP#</td>\n",
              "    </tr>\n",
              "    <tr>\n",
              "      <th>SP_E1B2U3</th>\n",
              "      <td>SP_E1B2U3</td>\n",
              "      <td>Adenopleurain-D2</td>\n",
              "      <td>E1B2U3</td>\n",
              "      <td>Babina adenopleura</td>\n",
              "      <td>73</td>\n",
              "      <td>MFTLKKSMILLFFLGTISLSLC</td>\n",
              "      <td>APLVDIGEQYRKYLEEKQNNP</td>\n",
              "      <td>APLVDIGEQYRKYLEEKQNNP</td>\n",
              "      <td>APLVDIGEQYRKYLEEKQNNP#</td>\n",
              "    </tr>\n",
              "  </tbody>\n",
              "</table>\n",
              "</div>"
            ],
            "text/plain": [
              "             DADP ID  ...             ModSequence\n",
              "DADP ID               ...                        \n",
              "SP_E1B2U0  SP_E1B2U0  ...  CFFDRIKALTKNVTLELLNTIT\n",
              "SP_E1B2U1  SP_E1B2U1  ...  APLVDIGEQYRKYLEEKQNNP#\n",
              "SP_E1B2U3  SP_E1B2U3  ...  APLVDIGEQYRKYLEEKQNNP#\n",
              "\n",
              "[3 rows x 9 columns]"
            ]
          },
          "metadata": {
            "tags": []
          }
        }
      ]
    },
    {
      "cell_type": "markdown",
      "metadata": {
        "id": "i9A_c8hvtrda"
      },
      "source": [
        "We can add a column to each dataframe that represents whether it is a positive or negative sequence"
      ]
    },
    {
      "cell_type": "code",
      "metadata": {
        "id": "SGAtxClEt2Ji",
        "colab": {
          "base_uri": "https://localhost:8080/",
          "height": 553
        },
        "outputId": "0cf7cad5-1f8f-4233-a7a0-10753ec944b7"
      },
      "source": [
        "negDF['Value'] = 0\n",
        "print(\"The negative sequences, with preprocessed sequence strings and value columns appended:\")\n",
        "display(negDF.head(3))\n",
        "\n",
        "posDF['Value'] = 1\n",
        "print(\"\\n\\nThe positive sequences, with preprocessed sequence strings and value columns appended:\")\n",
        "display(posDF.head(3))"
      ],
      "execution_count": null,
      "outputs": [
        {
          "output_type": "stream",
          "text": [
            "The negative sequences, with preprocessed sequence strings and value columns appended:\n"
          ],
          "name": "stdout"
        },
        {
          "output_type": "display_data",
          "data": {
            "text/html": [
              "<div>\n",
              "<style scoped>\n",
              "    .dataframe tbody tr th:only-of-type {\n",
              "        vertical-align: middle;\n",
              "    }\n",
              "\n",
              "    .dataframe tbody tr th {\n",
              "        vertical-align: top;\n",
              "    }\n",
              "\n",
              "    .dataframe thead th {\n",
              "        text-align: right;\n",
              "    }\n",
              "</style>\n",
              "<table border=\"1\" class=\"dataframe\">\n",
              "  <thead>\n",
              "    <tr style=\"text-align: right;\">\n",
              "      <th></th>\n",
              "      <th>DADP ID</th>\n",
              "      <th>Entry Name</th>\n",
              "      <th>Uniprot code</th>\n",
              "      <th>Species</th>\n",
              "      <th>Sequence length</th>\n",
              "      <th>Signal sequence</th>\n",
              "      <th>Bioactive sequence</th>\n",
              "      <th>TruncSequence</th>\n",
              "      <th>ModSequence</th>\n",
              "      <th>Value</th>\n",
              "    </tr>\n",
              "    <tr>\n",
              "      <th>DADP ID</th>\n",
              "      <th></th>\n",
              "      <th></th>\n",
              "      <th></th>\n",
              "      <th></th>\n",
              "      <th></th>\n",
              "      <th></th>\n",
              "      <th></th>\n",
              "      <th></th>\n",
              "      <th></th>\n",
              "      <th></th>\n",
              "    </tr>\n",
              "  </thead>\n",
              "  <tbody>\n",
              "    <tr>\n",
              "      <th>SP_P86816</th>\n",
              "      <td>SP_P86816</td>\n",
              "      <td>[Ala1,Thr6,Ala11]-phyllokinin</td>\n",
              "      <td>P86816</td>\n",
              "      <td>Physalaemus signifer</td>\n",
              "      <td>11</td>\n",
              "      <td>/</td>\n",
              "      <td>APPGFTPFRIA</td>\n",
              "      <td>APPGFTPFRIA</td>\n",
              "      <td>APPGFTPFRIA###########</td>\n",
              "      <td>0</td>\n",
              "    </tr>\n",
              "    <tr>\n",
              "      <th>SP_P86817</th>\n",
              "      <td>SP_P86817</td>\n",
              "      <td>[Ala1,Thr6,Asp11]-phyllokinin</td>\n",
              "      <td>P86817</td>\n",
              "      <td>Physalaemus signifer</td>\n",
              "      <td>11</td>\n",
              "      <td>/</td>\n",
              "      <td>APPGFTPFRID</td>\n",
              "      <td>APPGFTPFRID</td>\n",
              "      <td>APPGFTPFRID###########</td>\n",
              "      <td>0</td>\n",
              "    </tr>\n",
              "    <tr>\n",
              "      <th>SP_P86812</th>\n",
              "      <td>SP_P86812</td>\n",
              "      <td>[Ala1,Thr6]-bradykinin</td>\n",
              "      <td>P86812</td>\n",
              "      <td>Physalaemus signifer</td>\n",
              "      <td>9</td>\n",
              "      <td>/</td>\n",
              "      <td>APPGFTPFR</td>\n",
              "      <td>APPGFTPFR</td>\n",
              "      <td>APPGFTPFR#############</td>\n",
              "      <td>0</td>\n",
              "    </tr>\n",
              "  </tbody>\n",
              "</table>\n",
              "</div>"
            ],
            "text/plain": [
              "             DADP ID  ... Value\n",
              "DADP ID               ...      \n",
              "SP_P86816  SP_P86816  ...     0\n",
              "SP_P86817  SP_P86817  ...     0\n",
              "SP_P86812  SP_P86812  ...     0\n",
              "\n",
              "[3 rows x 10 columns]"
            ]
          },
          "metadata": {
            "tags": []
          }
        },
        {
          "output_type": "stream",
          "text": [
            "\n",
            "\n",
            "The positive sequences, with preprocessed sequence strings and value columns appended:\n"
          ],
          "name": "stdout"
        },
        {
          "output_type": "display_data",
          "data": {
            "text/html": [
              "<div>\n",
              "<style scoped>\n",
              "    .dataframe tbody tr th:only-of-type {\n",
              "        vertical-align: middle;\n",
              "    }\n",
              "\n",
              "    .dataframe tbody tr th {\n",
              "        vertical-align: top;\n",
              "    }\n",
              "\n",
              "    .dataframe thead th {\n",
              "        text-align: right;\n",
              "    }\n",
              "</style>\n",
              "<table border=\"1\" class=\"dataframe\">\n",
              "  <thead>\n",
              "    <tr style=\"text-align: right;\">\n",
              "      <th></th>\n",
              "      <th>DADP ID</th>\n",
              "      <th>Entry Name</th>\n",
              "      <th>Uniprot code</th>\n",
              "      <th>Species</th>\n",
              "      <th>Sequence length</th>\n",
              "      <th>Signal sequence</th>\n",
              "      <th>Bioactive sequence</th>\n",
              "      <th>TruncSequence</th>\n",
              "      <th>ModSequence</th>\n",
              "      <th>Value</th>\n",
              "    </tr>\n",
              "    <tr>\n",
              "      <th>DADP ID</th>\n",
              "      <th></th>\n",
              "      <th></th>\n",
              "      <th></th>\n",
              "      <th></th>\n",
              "      <th></th>\n",
              "      <th></th>\n",
              "      <th></th>\n",
              "      <th></th>\n",
              "      <th></th>\n",
              "      <th></th>\n",
              "    </tr>\n",
              "  </thead>\n",
              "  <tbody>\n",
              "    <tr>\n",
              "      <th>SP_E1B2U0</th>\n",
              "      <td>SP_E1B2U0</td>\n",
              "      <td>Adenopleurain-A1</td>\n",
              "      <td>E1B2U0</td>\n",
              "      <td>Babina adenopleura</td>\n",
              "      <td>73</td>\n",
              "      <td>MFTLKKSLLLLFFLGIISFSLC</td>\n",
              "      <td>CFFDRIKALTKNVTLELLNTITCKLPVTPP</td>\n",
              "      <td>CFFDRIKALTKNVTLELLNTIT</td>\n",
              "      <td>CFFDRIKALTKNVTLELLNTIT</td>\n",
              "      <td>1</td>\n",
              "    </tr>\n",
              "    <tr>\n",
              "      <th>SP_E1B2U1</th>\n",
              "      <td>SP_E1B2U1</td>\n",
              "      <td>Adenopleurain-D1</td>\n",
              "      <td>E1B2U1</td>\n",
              "      <td>Babina adenopleura</td>\n",
              "      <td>74</td>\n",
              "      <td>MFTLKKSMILLFFLGTISLSLC</td>\n",
              "      <td>APLVDIGEQYRKYLEEKQNNP</td>\n",
              "      <td>APLVDIGEQYRKYLEEKQNNP</td>\n",
              "      <td>APLVDIGEQYRKYLEEKQNNP#</td>\n",
              "      <td>1</td>\n",
              "    </tr>\n",
              "    <tr>\n",
              "      <th>SP_E1B2U3</th>\n",
              "      <td>SP_E1B2U3</td>\n",
              "      <td>Adenopleurain-D2</td>\n",
              "      <td>E1B2U3</td>\n",
              "      <td>Babina adenopleura</td>\n",
              "      <td>73</td>\n",
              "      <td>MFTLKKSMILLFFLGTISLSLC</td>\n",
              "      <td>APLVDIGEQYRKYLEEKQNNP</td>\n",
              "      <td>APLVDIGEQYRKYLEEKQNNP</td>\n",
              "      <td>APLVDIGEQYRKYLEEKQNNP#</td>\n",
              "      <td>1</td>\n",
              "    </tr>\n",
              "  </tbody>\n",
              "</table>\n",
              "</div>"
            ],
            "text/plain": [
              "             DADP ID        Entry Name  ...             ModSequence Value\n",
              "DADP ID                                 ...                              \n",
              "SP_E1B2U0  SP_E1B2U0  Adenopleurain-A1  ...  CFFDRIKALTKNVTLELLNTIT     1\n",
              "SP_E1B2U1  SP_E1B2U1  Adenopleurain-D1  ...  APLVDIGEQYRKYLEEKQNNP#     1\n",
              "SP_E1B2U3  SP_E1B2U3  Adenopleurain-D2  ...  APLVDIGEQYRKYLEEKQNNP#     1\n",
              "\n",
              "[3 rows x 10 columns]"
            ]
          },
          "metadata": {
            "tags": []
          }
        }
      ]
    },
    {
      "cell_type": "markdown",
      "metadata": {
        "id": "ljk8fFd6t9_W"
      },
      "source": [
        "Finally, we append the dataframes to each other, and we can also slice them down to just the bare bones of the data we need"
      ]
    },
    {
      "cell_type": "code",
      "metadata": {
        "id": "tqp-yTi_q2lC",
        "colab": {
          "base_uri": "https://localhost:8080/",
          "height": 450
        },
        "outputId": "c1738e8d-7022-4659-e8df-47c117344e7e"
      },
      "source": [
        "allDataDF = posDF.append(negDF)\n",
        "inputData = allDataDF[['ModSequence', 'Value']]\n",
        "inputData"
      ],
      "execution_count": null,
      "outputs": [
        {
          "output_type": "execute_result",
          "data": {
            "text/html": [
              "<div>\n",
              "<style scoped>\n",
              "    .dataframe tbody tr th:only-of-type {\n",
              "        vertical-align: middle;\n",
              "    }\n",
              "\n",
              "    .dataframe tbody tr th {\n",
              "        vertical-align: top;\n",
              "    }\n",
              "\n",
              "    .dataframe thead th {\n",
              "        text-align: right;\n",
              "    }\n",
              "</style>\n",
              "<table border=\"1\" class=\"dataframe\">\n",
              "  <thead>\n",
              "    <tr style=\"text-align: right;\">\n",
              "      <th></th>\n",
              "      <th>ModSequence</th>\n",
              "      <th>Value</th>\n",
              "    </tr>\n",
              "    <tr>\n",
              "      <th>DADP ID</th>\n",
              "      <th></th>\n",
              "      <th></th>\n",
              "    </tr>\n",
              "  </thead>\n",
              "  <tbody>\n",
              "    <tr>\n",
              "      <th>SP_E1B2U0</th>\n",
              "      <td>CFFDRIKALTKNVTLELLNTIT</td>\n",
              "      <td>1</td>\n",
              "    </tr>\n",
              "    <tr>\n",
              "      <th>SP_E1B2U1</th>\n",
              "      <td>APLVDIGEQYRKYLEEKQNNP#</td>\n",
              "      <td>1</td>\n",
              "    </tr>\n",
              "    <tr>\n",
              "      <th>SP_E1B2U3</th>\n",
              "      <td>APLVDIGEQYRKYLEEKQNNP#</td>\n",
              "      <td>1</td>\n",
              "    </tr>\n",
              "    <tr>\n",
              "      <th>SP_E1B2U2</th>\n",
              "      <td>FPESSQDLISSLLEK#######</td>\n",
              "      <td>1</td>\n",
              "    </tr>\n",
              "    <tr>\n",
              "      <th>SP_P31107</th>\n",
              "      <td>GLWSKIKEVGKEAAKAAAKAAG</td>\n",
              "      <td>1</td>\n",
              "    </tr>\n",
              "    <tr>\n",
              "      <th>...</th>\n",
              "      <td>...</td>\n",
              "      <td>...</td>\n",
              "    </tr>\n",
              "    <tr>\n",
              "      <th>SP_2850</th>\n",
              "      <td>APDRPRKFCGILG#########</td>\n",
              "      <td>0</td>\n",
              "    </tr>\n",
              "    <tr>\n",
              "      <th>SP_2852</th>\n",
              "      <td>VFLGNIVSMGKKI#########</td>\n",
              "      <td>0</td>\n",
              "    </tr>\n",
              "    <tr>\n",
              "      <th>SP_2853</th>\n",
              "      <td>DAAVEPELYHWGKVWLPN####</td>\n",
              "      <td>0</td>\n",
              "    </tr>\n",
              "    <tr>\n",
              "      <th>SP_2854</th>\n",
              "      <td>CVDIGFSPTGKRPPFCPYPG##</td>\n",
              "      <td>0</td>\n",
              "    </tr>\n",
              "    <tr>\n",
              "      <th>SP_Q09022</th>\n",
              "      <td>LKCVNLQANGIKMTQECAKEDT</td>\n",
              "      <td>0</td>\n",
              "    </tr>\n",
              "  </tbody>\n",
              "</table>\n",
              "<p>2571 rows × 2 columns</p>\n",
              "</div>"
            ],
            "text/plain": [
              "                      ModSequence  Value\n",
              "DADP ID                                 \n",
              "SP_E1B2U0  CFFDRIKALTKNVTLELLNTIT      1\n",
              "SP_E1B2U1  APLVDIGEQYRKYLEEKQNNP#      1\n",
              "SP_E1B2U3  APLVDIGEQYRKYLEEKQNNP#      1\n",
              "SP_E1B2U2  FPESSQDLISSLLEK#######      1\n",
              "SP_P31107  GLWSKIKEVGKEAAKAAAKAAG      1\n",
              "...                           ...    ...\n",
              "SP_2850    APDRPRKFCGILG#########      0\n",
              "SP_2852    VFLGNIVSMGKKI#########      0\n",
              "SP_2853    DAAVEPELYHWGKVWLPN####      0\n",
              "SP_2854    CVDIGFSPTGKRPPFCPYPG##      0\n",
              "SP_Q09022  LKCVNLQANGIKMTQECAKEDT      0\n",
              "\n",
              "[2571 rows x 2 columns]"
            ]
          },
          "metadata": {
            "tags": []
          },
          "execution_count": 39
        }
      ]
    },
    {
      "cell_type": "markdown",
      "metadata": {
        "id": "DXU3B9D5qenD"
      },
      "source": [
        "# Feature Extraction:\n",
        "Describe what feature extraction you intend to implement and why\n",
        "For example, will you convert text to document-term matrix, or TF-IDF matrix, or to word (or sentence) vectors?\n",
        "\n",
        "The characters that represent each amino acid would be converted to vectors using one hot encoding as these are individual charaters and not words in a document as the usual cases\n"
      ]
    },
    {
      "cell_type": "code",
      "metadata": {
        "id": "AoQbUsazqgZ9",
        "colab": {
          "base_uri": "https://localhost:8080/",
          "height": 34
        },
        "outputId": "3e3d8cf1-6640-4b4c-c8b6-be7e9879678d"
      },
      "source": [
        "# One hot encoding of the alphabets used to represent the amino acids\n",
        "import numpy\n",
        "import operator\n",
        "from functools import reduce\n",
        "from numpy import argmax\n",
        "SeqEncoded = []\n",
        "for j in range(len(allDataDF)):\n",
        "  data = allDataDF.ModSequence[j]\n",
        "  # define universe of possible input values\n",
        "  alphabet = 'ABCDEFGHIJKLMNOPQRSTUVWXYZ#/ '\n",
        "  # define a mapping of chars to integers\n",
        "  char_to_int = dict((c, i) for i, c in enumerate(alphabet))\n",
        "  int_to_char = dict((i, c) for i, c in enumerate(alphabet))\n",
        "  # integer encode input data\n",
        "  integer_encoded = [char_to_int[char] for char in data]\n",
        "  #print(integer_encoded)\n",
        "  # one hot encode\n",
        "  onehot_encoded = list()\n",
        "  for value in integer_encoded:\n",
        "    letter = [0 for _ in range(len(alphabet))]\n",
        "    letter[value] = 1\n",
        "    onehot_encoded.append(letter)\n",
        "  #print(onehot_encoded)\n",
        "  SeqEncoded.append(onehot_encoded)\n",
        "# End of the loop\n",
        "print(len(SeqEncoded))\n",
        "allDataDF['EncodedX'] = SeqEncoded"
      ],
      "execution_count": null,
      "outputs": [
        {
          "output_type": "stream",
          "text": [
            "2571\n"
          ],
          "name": "stdout"
        }
      ]
    },
    {
      "cell_type": "code",
      "metadata": {
        "id": "1YCpPvMZXaLg",
        "colab": {
          "base_uri": "https://localhost:8080/",
          "height": 54
        },
        "outputId": "33ee79c6-2877-49cb-d265-c0130369a2b0"
      },
      "source": [
        "# Flattening the list\n",
        "flatten = lambda l: [item for sublist in l for item in sublist]\n",
        "for i in range(len(allDataDF)):\n",
        "  allDataDF.EncodedX[i] = flatten(allDataDF.EncodedX[i])\n",
        "print((allDataDF.EncodedX[3]))"
      ],
      "execution_count": null,
      "outputs": [
        {
          "output_type": "stream",
          "text": [
            "[0, 0, 0, 0, 0, 1, 0, 0, 0, 0, 0, 0, 0, 0, 0, 0, 0, 0, 0, 0, 0, 0, 0, 0, 0, 0, 0, 0, 0, 0, 0, 0, 0, 0, 0, 0, 0, 0, 0, 0, 0, 0, 0, 0, 1, 0, 0, 0, 0, 0, 0, 0, 0, 0, 0, 0, 0, 0, 0, 0, 0, 0, 1, 0, 0, 0, 0, 0, 0, 0, 0, 0, 0, 0, 0, 0, 0, 0, 0, 0, 0, 0, 0, 0, 0, 0, 0, 0, 0, 0, 0, 0, 0, 0, 0, 0, 0, 0, 0, 0, 0, 0, 0, 0, 0, 1, 0, 0, 0, 0, 0, 0, 0, 0, 0, 0, 0, 0, 0, 0, 0, 0, 0, 0, 0, 0, 0, 0, 0, 0, 0, 0, 0, 0, 1, 0, 0, 0, 0, 0, 0, 0, 0, 0, 0, 0, 0, 0, 0, 0, 0, 0, 0, 0, 0, 0, 0, 0, 0, 0, 0, 1, 0, 0, 0, 0, 0, 0, 0, 0, 0, 0, 0, 0, 0, 0, 0, 1, 0, 0, 0, 0, 0, 0, 0, 0, 0, 0, 0, 0, 0, 0, 0, 0, 0, 0, 0, 0, 0, 0, 0, 0, 0, 0, 0, 0, 0, 0, 0, 0, 0, 0, 0, 0, 1, 0, 0, 0, 0, 0, 0, 0, 0, 0, 0, 0, 0, 0, 0, 0, 0, 0, 0, 0, 0, 0, 0, 0, 0, 0, 1, 0, 0, 0, 0, 0, 0, 0, 0, 0, 0, 0, 0, 0, 0, 0, 0, 0, 0, 0, 0, 0, 0, 0, 0, 0, 0, 0, 0, 0, 0, 0, 0, 0, 0, 0, 0, 0, 0, 1, 0, 0, 0, 0, 0, 0, 0, 0, 0, 0, 0, 0, 0, 0, 0, 0, 0, 0, 0, 0, 0, 0, 0, 0, 0, 0, 0, 0, 1, 0, 0, 0, 0, 0, 0, 0, 0, 0, 0, 0, 0, 0, 0, 0, 0, 0, 0, 0, 0, 0, 1, 0, 0, 0, 0, 0, 0, 0, 0, 0, 0, 0, 0, 0, 0, 0, 0, 0, 0, 0, 0, 0, 0, 0, 0, 0, 0, 0, 0, 1, 0, 0, 0, 0, 0, 0, 0, 0, 0, 0, 0, 0, 0, 0, 0, 0, 0, 0, 0, 0, 0, 1, 0, 0, 0, 0, 0, 0, 0, 0, 0, 0, 0, 0, 0, 0, 0, 0, 0, 0, 0, 0, 0, 0, 0, 0, 0, 0, 0, 0, 0, 0, 0, 0, 0, 0, 1, 0, 0, 0, 0, 0, 0, 0, 0, 0, 0, 0, 0, 0, 0, 0, 0, 0, 0, 0, 0, 0, 0, 0, 0, 0, 0, 0, 0, 0, 0, 0, 0, 0, 0, 0, 0, 0, 0, 0, 0, 0, 0, 0, 0, 1, 0, 0, 0, 0, 0, 0, 0, 0, 0, 0, 0, 0, 0, 0, 0, 0, 0, 0, 0, 0, 0, 0, 0, 0, 0, 0, 0, 0, 1, 0, 0, 0, 0, 0, 0, 0, 0, 0, 0, 0, 0, 0, 0, 0, 0, 0, 0, 0, 0, 0, 0, 0, 0, 0, 0, 0, 0, 1, 0, 0, 0, 0, 0, 0, 0, 0, 0, 0, 0, 0, 0, 0, 0, 0, 0, 0, 0, 0, 0, 0, 0, 0, 0, 0, 0, 0, 1, 0, 0, 0, 0, 0, 0, 0, 0, 0, 0, 0, 0, 0, 0, 0, 0, 0, 0, 0, 0, 0, 0, 0, 0, 0, 0, 0, 0, 1, 0, 0, 0, 0, 0, 0, 0, 0, 0, 0, 0, 0, 0, 0, 0, 0, 0, 0, 0, 0, 0, 0, 0, 0, 0, 0, 0, 0, 1, 0, 0, 0, 0, 0, 0, 0, 0, 0, 0, 0, 0, 0, 0, 0, 0, 0, 0, 0, 0, 0, 0, 0, 0, 0, 0, 0, 0, 1, 0, 0]\n"
          ],
          "name": "stdout"
        }
      ]
    },
    {
      "cell_type": "markdown",
      "metadata": {
        "id": "wRW18oFCqhH5"
      },
      "source": [
        "#The Model:\n",
        "- Explain what model you are trying to build to attain your final goal.\n",
        "- You need to convince the audience that you understand the model, its inputs, outputs and what it does. You do not need to build the model in the proposal.\n",
        "- FYI: We always build models iteratively - starting with the simplest version (called baseline model) and progressing to more advanced (by adding features, tuning model parameters, combining models, etc.)\n"
      ]
    },
    {
      "cell_type": "markdown",
      "metadata": {
        "id": "beE8L4Xd3kNR"
      },
      "source": [
        "**We will be utilizing supervised machine learning and building a classification model. It would either be a simple multi-class logistic regression model or a neural networks based model. We are dividing the components of the model as below:**\n",
        "\n",
        "**Inputs:** <br>\n",
        "The inputs of the model will be a training feature matrix. Each row of this matrix represents one peptide and will be the result of the preprocessing and feature extraction steps outlined above. The size of this matrix will be (n x d). n represents the number of training examples of peptides. d is the size of the dimension of the extracted feature vector. This matrix will map to training labels of size (n,). Each peptide will map to either a 0 or 1. \n",
        "\n",
        "**Training:** <br>\n",
        "The inputs (80% of the data) will be fed into our classification model that will learn the parameters to map the input vectors to their corresponding outputs in the optimial way. These learned parameters will be frozen and our model will be able to use these parameters to make predictions on unseen instances.\n",
        "\n",
        "**Prediction:**<br>\n",
        "Once trained, the model will be leveraged to create predictions for the test set (rest 20% of the data). The model has not seen these instances during training process. We will create these predictions and evaluate how well the model has learned based on the training data.\n"
      ]
    },
    {
      "cell_type": "code",
      "metadata": {
        "id": "ro16TyeOqmnZ",
        "colab": {
          "base_uri": "https://localhost:8080/",
          "height": 255
        },
        "outputId": "72184a35-489c-482f-9c5b-324602908b9d"
      },
      "source": [
        "#Splitting the dataset into train and test\n",
        "from sklearn.feature_extraction.text import CountVectorizer, TfidfTransformer, HashingVectorizer\n",
        "from sklearn.model_selection import train_test_split as tts\n",
        "tY, vY, tarr, varr = tts(allDataDF.Value, allDataDF.EncodedX, test_size=.2, random_state=00)\n",
        "print(f'Train text:{len(tY)}. Test text: {len(vY)}')\n",
        "print(tarr)"
      ],
      "execution_count": null,
      "outputs": [
        {
          "output_type": "stream",
          "text": [
            "Train text:2056. Test text: 515\n",
            "DADP ID\n",
            "SP_P82039    [0, 0, 0, 0, 0, 0, 1, 0, 0, 0, 0, 0, 0, 0, 0, ...\n",
            "SP_A6MAT0    [0, 0, 0, 0, 0, 0, 1, 0, 0, 0, 0, 0, 0, 0, 0, ...\n",
            "SP_P0C5W7    [0, 0, 0, 0, 0, 1, 0, 0, 0, 0, 0, 0, 0, 0, 0, ...\n",
            "SP_C3RTI2    [0, 0, 0, 0, 0, 0, 0, 0, 0, 0, 0, 0, 0, 0, 0, ...\n",
            "SP_E1B2U1    [1, 0, 0, 0, 0, 0, 0, 0, 0, 0, 0, 0, 0, 0, 0, ...\n",
            "                                   ...                        \n",
            "SP_O93224    [0, 0, 0, 0, 0, 0, 1, 0, 0, 0, 0, 0, 0, 0, 0, ...\n",
            "SP_P82041    [0, 0, 0, 0, 0, 0, 1, 0, 0, 0, 0, 0, 0, 0, 0, ...\n",
            "SP_B5L183    [0, 0, 0, 0, 0, 0, 1, 0, 0, 0, 0, 0, 0, 0, 0, ...\n",
            "SP_B5L1I9    [0, 0, 0, 0, 0, 0, 1, 0, 0, 0, 0, 0, 0, 0, 0, ...\n",
            "SP_P82878    [0, 0, 0, 0, 0, 0, 1, 0, 0, 0, 0, 0, 0, 0, 0, ...\n",
            "Name: EncodedX, Length: 2056, dtype: object\n"
          ],
          "name": "stdout"
        }
      ]
    },
    {
      "cell_type": "code",
      "metadata": {
        "id": "QEpaLZeKSN5P",
        "colab": {
          "base_uri": "https://localhost:8080/",
          "height": 34
        },
        "outputId": "ce6c40ce-5c3b-4203-b339-29fd7c80c83a"
      },
      "source": [
        "tarr.shape"
      ],
      "execution_count": null,
      "outputs": [
        {
          "output_type": "execute_result",
          "data": {
            "text/plain": [
              "(2056,)"
            ]
          },
          "metadata": {
            "tags": []
          },
          "execution_count": 43
        }
      ]
    },
    {
      "cell_type": "code",
      "metadata": {
        "id": "xY19Sn9gSN3J",
        "colab": {
          "base_uri": "https://localhost:8080/",
          "height": 34
        },
        "outputId": "59c21392-5f6c-44c5-c904-d42cdc45ef7e"
      },
      "source": [
        "varr.shape"
      ],
      "execution_count": null,
      "outputs": [
        {
          "output_type": "execute_result",
          "data": {
            "text/plain": [
              "(515,)"
            ]
          },
          "metadata": {
            "tags": []
          },
          "execution_count": 44
        }
      ]
    },
    {
      "cell_type": "code",
      "metadata": {
        "id": "8tp0PAAXS_Wz"
      },
      "source": [
        "X_train = np.array([np.array(i) for i in tarr])\n",
        "X_test = np.array([np.array(i) for i in varr])"
      ],
      "execution_count": null,
      "outputs": []
    },
    {
      "cell_type": "code",
      "metadata": {
        "id": "piJSGXD-TgIb",
        "colab": {
          "base_uri": "https://localhost:8080/",
          "height": 34
        },
        "outputId": "fee5fb7a-225c-4e5a-be4c-83784b8f44dc"
      },
      "source": [
        "print(X_train.shape, X_test.shape)"
      ],
      "execution_count": null,
      "outputs": [
        {
          "output_type": "stream",
          "text": [
            "(2056, 638) (515, 638)\n"
          ],
          "name": "stdout"
        }
      ]
    },
    {
      "cell_type": "code",
      "metadata": {
        "id": "mh9BQinBTmMl"
      },
      "source": [
        "y_train = np.array(tY)\n",
        "y_test = np.array(vY)"
      ],
      "execution_count": null,
      "outputs": []
    },
    {
      "cell_type": "markdown",
      "metadata": {
        "id": "9-CZsS_rqpS9"
      },
      "source": [
        "#Evaluation Metrics:\n",
        "- Describe evaluation metrics you are planning on using. Convince the audience that you understand how these metrics are used and interpreted.\n"
      ]
    },
    {
      "cell_type": "markdown",
      "metadata": {
        "id": "Ul-D9UCa_kHg"
      },
      "source": [
        "**Since the purpose of this activity is to identify as many new drugs as possible in an efficient manner. \n",
        "We will look at a validation set of peptides and identify how well our discovery process worked against them. We plan to rely on basic classification metrics namely:**\n",
        "\n",
        "1. Accuracy score\n",
        "2. Sensitivity\n",
        "3. Specificity \n",
        "\n",
        "**The Accuracy score will give us an overall indication of model performance. Since we are dealing with drug discovery (and eventhough peptides are not to have side-effects), it would be preferable to keep incorrect classifications in check and so tracking false positives is deemed important. Therefore, we will plan to also rely on Specificity measures.**"
      ]
    },
    {
      "cell_type": "code",
      "metadata": {
        "id": "YBnf2wyhqq2d"
      },
      "source": [
        ""
      ],
      "execution_count": null,
      "outputs": []
    },
    {
      "cell_type": "markdown",
      "metadata": {
        "id": "vdVPpOEsquRm"
      },
      "source": [
        "# Interpretation of results:\n",
        "In proposal you need to explain\n",
        "- what you expect to see as a result (favorable or unfavorable)\n",
        "- what these results mean\n",
        "- how you will react to these results. that is: what will you try to modify about your process to improve final results\n"
      ]
    },
    {
      "cell_type": "markdown",
      "metadata": {
        "id": "JGREQ3-VExMK"
      },
      "source": [
        "**From the model, we expect to see encouraging model evaluation scores. This would enable us to be confident about our drug discoveries.**\n",
        "\n",
        "**A higher accuracy lends itself to the idea that the model is working as expected and can be relied on for the task of identifying and discovering potentially new therapeutic drugs.** \n",
        "\n",
        "The nature of this problem warrants a high accuracy score and that is where our post model enhancements will mostly be directed to. We would like to use more complex classification models and model ensembles to see how we can squeeze ut as muc predictability from the model as possible.\n",
        "Additionally, we feel that collecting more training data to train the model could prove to be useful so that we can capture as much variance in the data and the occurence of amino acid sequences. \n",
        "Lastly, using other methodologies to extract embeddings can also be a worthwile effort in the event we can extract more predictive vectors from the GloVe model for example."
      ]
    },
    {
      "cell_type": "code",
      "metadata": {
        "id": "Qb9XwWo7qymm"
      },
      "source": [
        "# Assuming the below dataset names for now\n",
        "\n",
        "import pandas as pd\n",
        "import numpy as np\n",
        "from sklearn.metrics import roc_auc_score, accuracy_score, precision_score, recall_score, f1_score\n",
        "from sklearn.linear_model import LogisticRegression\n",
        "from sklearn.tree import DecisionTreeClassifier\n",
        "from sklearn.svm import SVC\n",
        "from sklearn.ensemble import RandomForestClassifier\n",
        "from sklearn.discriminant_analysis import LinearDiscriminantAnalysis, QuadraticDiscriminantAnalysis\n",
        "from sklearn.cluster import KMeans\n",
        "from sklearn.neighbors import KNeighborsClassifier\n",
        "from sklearn.naive_bayes import GaussianNB\n",
        "from sklearn.metrics import precision_recall_fscore_support\n",
        "from sklearn.metrics import mean_squared_error as mse\n",
        "from sklearn.preprocessing import StandardScaler\n",
        "from sklearn.model_selection import cross_validate\n",
        "from sklearn.model_selection import train_test_split\n",
        "from sklearn.ensemble import ExtraTreesClassifier\n",
        "from sklearn.feature_selection import SelectFromModel\n",
        "from sklearn.svm import LinearSVC\n",
        "from sklearn.ensemble import VotingClassifier\n",
        "from sklearn.feature_selection import RFECV\n",
        "from sklearn.neural_network import MLPClassifier\n",
        "from sklearn.datasets import load_breast_cancer\n",
        "import warnings\n",
        "warnings.filterwarnings('ignore')"
      ],
      "execution_count": null,
      "outputs": []
    },
    {
      "cell_type": "code",
      "metadata": {
        "id": "9fpdZJNvQuU3"
      },
      "source": [
        "LR = LogisticRegression()\n",
        "\n",
        "scoring = ['accuracy', 'precision_macro', 'recall_macro' , 'f1_weighted', 'roc_auc']\n",
        "scores = cross_validate(LR, X_train, y_train, scoring=scoring, cv=20)\n",
        "\n",
        "sorted(scores.keys())\n",
        "LR_fit_time = scores['fit_time'].mean()\n",
        "LR_score_time = scores['score_time'].mean()\n",
        "LR_accuracy = scores['test_accuracy'].mean()\n",
        "LR_precision = scores['test_precision_macro'].mean()\n",
        "LR_recall = scores['test_recall_macro'].mean()\n",
        "LR_f1 = scores['test_f1_weighted'].mean()\n",
        "LR_roc = scores['test_roc_auc'].mean()"
      ],
      "execution_count": null,
      "outputs": []
    },
    {
      "cell_type": "code",
      "metadata": {
        "id": "7P5riwm5RJiv"
      },
      "source": [
        "SVM = SVC(probability = True)\n",
        "\n",
        "scoring = ['accuracy','precision_macro', 'recall_macro' , 'f1_weighted', 'roc_auc']\n",
        "scores = cross_validate(SVM, X_train, y_train, scoring=scoring, cv=20)\n",
        "\n",
        "sorted(scores.keys())\n",
        "SVM_fit_time = scores['fit_time'].mean()\n",
        "SVM_score_time = scores['score_time'].mean()\n",
        "SVM_accuracy = scores['test_accuracy'].mean()\n",
        "SVM_precision = scores['test_precision_macro'].mean()\n",
        "SVM_recall = scores['test_recall_macro'].mean()\n",
        "SVM_f1 = scores['test_f1_weighted'].mean()\n",
        "SVM_roc = scores['test_roc_auc'].mean()"
      ],
      "execution_count": null,
      "outputs": []
    },
    {
      "cell_type": "code",
      "metadata": {
        "id": "VPjDPQ2WRLul"
      },
      "source": [
        "decision_tree = DecisionTreeClassifier()\n",
        "\n",
        "scoring = ['accuracy', 'precision_macro', 'recall_macro' , 'f1_weighted', 'roc_auc']\n",
        "scores = cross_validate(decision_tree, X_train, y_train, scoring=scoring, cv=20)\n",
        "\n",
        "sorted(scores.keys())\n",
        "dtree_fit_time = scores['fit_time'].mean()\n",
        "dtree_score_time = scores['score_time'].mean()\n",
        "dtree_accuracy = scores['test_accuracy'].mean()\n",
        "dtree_precision = scores['test_precision_macro'].mean()\n",
        "dtree_recall = scores['test_recall_macro'].mean()\n",
        "dtree_f1 = scores['test_f1_weighted'].mean()\n",
        "dtree_roc = scores['test_roc_auc'].mean()"
      ],
      "execution_count": null,
      "outputs": []
    },
    {
      "cell_type": "code",
      "metadata": {
        "id": "M1Wtz1zPRNum"
      },
      "source": [
        "LDA = LinearDiscriminantAnalysis()\n",
        "\n",
        "scoring = ['accuracy', 'precision_macro', 'recall_macro' , 'f1_weighted', 'roc_auc']\n",
        "scores = cross_validate(LDA, X_train, y_train, scoring=scoring, cv=20)\n",
        "\n",
        "sorted(scores.keys())\n",
        "LDA_fit_time = scores['fit_time'].mean()\n",
        "LDA_score_time = scores['score_time'].mean()\n",
        "LDA_accuracy = scores['test_accuracy'].mean()\n",
        "LDA_precision = scores['test_precision_macro'].mean()\n",
        "LDA_recall = scores['test_recall_macro'].mean()\n",
        "LDA_f1 = scores['test_f1_weighted'].mean()\n",
        "LDA_roc = scores['test_roc_auc'].mean()"
      ],
      "execution_count": null,
      "outputs": []
    },
    {
      "cell_type": "code",
      "metadata": {
        "id": "fny0qV9qRP_V"
      },
      "source": [
        "QDA = QuadraticDiscriminantAnalysis()\n",
        "\n",
        "scoring = ['accuracy', 'precision_macro', 'recall_macro' , 'f1_weighted', 'roc_auc']\n",
        "scores = cross_validate(QDA, X_train, y_train, scoring=scoring, cv=20)\n",
        "\n",
        "sorted(scores.keys())\n",
        "QDA_fit_time = scores['fit_time'].mean()\n",
        "QDA_score_time = scores['score_time'].mean()\n",
        "QDA_accuracy = scores['test_accuracy'].mean()\n",
        "QDA_precision = scores['test_precision_macro'].mean()\n",
        "QDA_recall = scores['test_recall_macro'].mean()\n",
        "QDA_f1 = scores['test_f1_weighted'].mean()\n",
        "QDA_roc = scores['test_roc_auc'].mean()"
      ],
      "execution_count": null,
      "outputs": []
    },
    {
      "cell_type": "code",
      "metadata": {
        "id": "L3w966SARR30"
      },
      "source": [
        "random_forest = RandomForestClassifier()\n",
        "\n",
        "scoring = ['accuracy', 'precision_macro', 'recall_macro' , 'f1_weighted', 'roc_auc']\n",
        "scores = cross_validate(random_forest, X_train, y_train, scoring=scoring, cv=20)\n",
        "\n",
        "sorted(scores.keys())\n",
        "forest_fit_time = scores['fit_time'].mean()\n",
        "forest_score_time = scores['score_time'].mean()\n",
        "forest_accuracy = scores['test_accuracy'].mean()\n",
        "forest_precision = scores['test_precision_macro'].mean()\n",
        "forest_recall = scores['test_recall_macro'].mean()\n",
        "forest_f1 = scores['test_f1_weighted'].mean()\n",
        "forest_roc = scores['test_roc_auc'].mean()"
      ],
      "execution_count": null,
      "outputs": []
    },
    {
      "cell_type": "code",
      "metadata": {
        "id": "wT3-MWd0RT7u"
      },
      "source": [
        "KNN = KNeighborsClassifier()\n",
        "\n",
        "scoring = ['accuracy', 'precision_macro', 'recall_macro' , 'f1_weighted', 'roc_auc']\n",
        "scores = cross_validate(KNN, X_train, y_train, scoring=scoring, cv=20)\n",
        "\n",
        "sorted(scores.keys())\n",
        "KNN_fit_time = scores['fit_time'].mean()\n",
        "KNN_score_time = scores['score_time'].mean()\n",
        "KNN_accuracy = scores['test_accuracy'].mean()\n",
        "KNN_precision = scores['test_precision_macro'].mean()\n",
        "KNN_recall = scores['test_recall_macro'].mean()\n",
        "KNN_f1 = scores['test_f1_weighted'].mean()\n",
        "KNN_roc = scores['test_roc_auc'].mean()"
      ],
      "execution_count": null,
      "outputs": []
    },
    {
      "cell_type": "code",
      "metadata": {
        "id": "ihSYsa6xRV-Z"
      },
      "source": [
        "bayes = GaussianNB()\n",
        "\n",
        "scoring = ['accuracy', 'precision_macro', 'recall_macro' , 'f1_weighted', 'roc_auc']\n",
        "scores = cross_validate(bayes, X_train, y_train, scoring=scoring, cv=20)\n",
        "\n",
        "sorted(scores.keys())\n",
        "bayes_fit_time = scores['fit_time'].mean()\n",
        "bayes_score_time = scores['score_time'].mean()\n",
        "bayes_accuracy = scores['test_accuracy'].mean()\n",
        "bayes_precision = scores['test_precision_macro'].mean()\n",
        "bayes_recall = scores['test_recall_macro'].mean()\n",
        "bayes_f1 = scores['test_f1_weighted'].mean()\n",
        "bayes_roc = scores['test_roc_auc'].mean()"
      ],
      "execution_count": null,
      "outputs": []
    },
    {
      "cell_type": "code",
      "metadata": {
        "id": "E6gRJDuTRX8T"
      },
      "source": [
        "nn = MLPClassifier()\n",
        "\n",
        "scoring = ['accuracy', 'precision_macro', 'recall_macro' , 'f1_weighted', 'roc_auc']\n",
        "scores = cross_validate(nn, X_train, y_train, scoring=scoring, cv=20)\n",
        "\n",
        "sorted(scores.keys())\n",
        "nn_fit_time = scores['fit_time'].mean()\n",
        "nn_score_time = scores['score_time'].mean()\n",
        "nn_accuracy = scores['test_accuracy'].mean()\n",
        "nn_precision = scores['test_precision_macro'].mean()\n",
        "nn_recall = scores['test_recall_macro'].mean()\n",
        "nn_f1 = scores['test_f1_weighted'].mean()\n",
        "nn_roc = scores['test_roc_auc'].mean()"
      ],
      "execution_count": null,
      "outputs": []
    },
    {
      "cell_type": "code",
      "metadata": {
        "id": "gp4pR3EuRdwW",
        "colab": {
          "base_uri": "https://localhost:8080/",
          "height": 328
        },
        "outputId": "3d78012d-6b83-4bce-86ff-1631c8fdb2f3"
      },
      "source": [
        "models_initial = pd.DataFrame({\n",
        "    'Model'       : ['Logistic Regression', 'Decision Tree', 'Support Vector Machine', 'Linear Discriminant Analysis', 'Quadratic Discriminant Analysis', 'Random Forest', 'K-Nearest Neighbors', 'Bayes','Neural Network'],\n",
        "    'Fitting time': [LR_fit_time, dtree_fit_time, SVM_fit_time, LDA_fit_time, QDA_fit_time, forest_fit_time, KNN_fit_time, bayes_fit_time,nn_fit_time],\n",
        "    'Scoring time': [LR_score_time, dtree_score_time, SVM_score_time, LDA_score_time, QDA_score_time, forest_score_time, KNN_score_time, bayes_score_time,nn_score_time],\n",
        "    'Accuracy'    : [LR_accuracy, dtree_accuracy, SVM_accuracy, LDA_accuracy, QDA_accuracy, forest_accuracy, KNN_accuracy, bayes_accuracy,nn_accuracy],\n",
        "    'Precision'   : [LR_precision, dtree_precision, SVM_precision, LDA_precision, QDA_precision, forest_precision, KNN_precision, bayes_precision,nn_precision],\n",
        "    'Recall'      : [LR_recall, dtree_recall, SVM_recall, LDA_recall, QDA_recall, forest_recall, KNN_recall, bayes_recall,nn_recall],\n",
        "    'F1_score'    : [LR_f1, dtree_f1, SVM_f1, LDA_f1, QDA_f1, forest_f1, KNN_f1, bayes_f1,nn_f1],\n",
        "    'AUC_ROC'     : [LR_roc, dtree_roc, SVM_roc, LDA_roc, QDA_roc, forest_roc, KNN_roc, bayes_roc, nn_roc],\n",
        "    }, columns = ['Model', 'Fitting time', 'Scoring time', 'Accuracy', 'Precision', 'Recall', 'F1_score', 'AUC_ROC'])\n",
        "\n",
        "models_initial.sort_values(by='Accuracy', ascending=False)"
      ],
      "execution_count": null,
      "outputs": [
        {
          "output_type": "execute_result",
          "data": {
            "text/html": [
              "<div>\n",
              "<style scoped>\n",
              "    .dataframe tbody tr th:only-of-type {\n",
              "        vertical-align: middle;\n",
              "    }\n",
              "\n",
              "    .dataframe tbody tr th {\n",
              "        vertical-align: top;\n",
              "    }\n",
              "\n",
              "    .dataframe thead th {\n",
              "        text-align: right;\n",
              "    }\n",
              "</style>\n",
              "<table border=\"1\" class=\"dataframe\">\n",
              "  <thead>\n",
              "    <tr style=\"text-align: right;\">\n",
              "      <th></th>\n",
              "      <th>Model</th>\n",
              "      <th>Fitting time</th>\n",
              "      <th>Scoring time</th>\n",
              "      <th>Accuracy</th>\n",
              "      <th>Precision</th>\n",
              "      <th>Recall</th>\n",
              "      <th>F1_score</th>\n",
              "      <th>AUC_ROC</th>\n",
              "    </tr>\n",
              "  </thead>\n",
              "  <tbody>\n",
              "    <tr>\n",
              "      <th>5</th>\n",
              "      <td>Random Forest</td>\n",
              "      <td>0.509917</td>\n",
              "      <td>0.023511</td>\n",
              "      <td>0.953803</td>\n",
              "      <td>0.937403</td>\n",
              "      <td>0.889158</td>\n",
              "      <td>0.952251</td>\n",
              "      <td>0.969847</td>\n",
              "    </tr>\n",
              "    <tr>\n",
              "      <th>8</th>\n",
              "      <td>Neural Network</td>\n",
              "      <td>11.130187</td>\n",
              "      <td>0.008104</td>\n",
              "      <td>0.948453</td>\n",
              "      <td>0.916329</td>\n",
              "      <td>0.890690</td>\n",
              "      <td>0.947643</td>\n",
              "      <td>0.942984</td>\n",
              "    </tr>\n",
              "    <tr>\n",
              "      <th>2</th>\n",
              "      <td>Support Vector Machine</td>\n",
              "      <td>6.448885</td>\n",
              "      <td>0.125309</td>\n",
              "      <td>0.942619</td>\n",
              "      <td>0.925324</td>\n",
              "      <td>0.856690</td>\n",
              "      <td>0.940056</td>\n",
              "      <td>0.953505</td>\n",
              "    </tr>\n",
              "    <tr>\n",
              "      <th>0</th>\n",
              "      <td>Logistic Regression</td>\n",
              "      <td>0.145442</td>\n",
              "      <td>0.005655</td>\n",
              "      <td>0.938706</td>\n",
              "      <td>0.901502</td>\n",
              "      <td>0.867721</td>\n",
              "      <td>0.937416</td>\n",
              "      <td>0.948118</td>\n",
              "    </tr>\n",
              "    <tr>\n",
              "      <th>1</th>\n",
              "      <td>Decision Tree</td>\n",
              "      <td>0.102946</td>\n",
              "      <td>0.004251</td>\n",
              "      <td>0.938235</td>\n",
              "      <td>0.884681</td>\n",
              "      <td>0.893430</td>\n",
              "      <td>0.938755</td>\n",
              "      <td>0.897709</td>\n",
              "    </tr>\n",
              "    <tr>\n",
              "      <th>6</th>\n",
              "      <td>K-Nearest Neighbors</td>\n",
              "      <td>0.125468</td>\n",
              "      <td>0.573189</td>\n",
              "      <td>0.929964</td>\n",
              "      <td>0.883107</td>\n",
              "      <td>0.856704</td>\n",
              "      <td>0.928892</td>\n",
              "      <td>0.936661</td>\n",
              "    </tr>\n",
              "    <tr>\n",
              "      <th>3</th>\n",
              "      <td>Linear Discriminant Analysis</td>\n",
              "      <td>0.590818</td>\n",
              "      <td>0.005984</td>\n",
              "      <td>0.927023</td>\n",
              "      <td>0.873685</td>\n",
              "      <td>0.863124</td>\n",
              "      <td>0.927224</td>\n",
              "      <td>0.911919</td>\n",
              "    </tr>\n",
              "    <tr>\n",
              "      <th>4</th>\n",
              "      <td>Quadratic Discriminant Analysis</td>\n",
              "      <td>0.451070</td>\n",
              "      <td>0.021580</td>\n",
              "      <td>0.885699</td>\n",
              "      <td>0.914602</td>\n",
              "      <td>0.649384</td>\n",
              "      <td>0.856834</td>\n",
              "      <td>0.881844</td>\n",
              "    </tr>\n",
              "    <tr>\n",
              "      <th>7</th>\n",
              "      <td>Bayes</td>\n",
              "      <td>0.027758</td>\n",
              "      <td>0.006219</td>\n",
              "      <td>0.685266</td>\n",
              "      <td>0.649330</td>\n",
              "      <td>0.772115</td>\n",
              "      <td>0.726806</td>\n",
              "      <td>0.900212</td>\n",
              "    </tr>\n",
              "  </tbody>\n",
              "</table>\n",
              "</div>"
            ],
            "text/plain": [
              "                             Model  Fitting time  ...  F1_score   AUC_ROC\n",
              "5                    Random Forest      0.509917  ...  0.952251  0.969847\n",
              "8                   Neural Network     11.130187  ...  0.947643  0.942984\n",
              "2           Support Vector Machine      6.448885  ...  0.940056  0.953505\n",
              "0              Logistic Regression      0.145442  ...  0.937416  0.948118\n",
              "1                    Decision Tree      0.102946  ...  0.938755  0.897709\n",
              "6              K-Nearest Neighbors      0.125468  ...  0.928892  0.936661\n",
              "3     Linear Discriminant Analysis      0.590818  ...  0.927224  0.911919\n",
              "4  Quadratic Discriminant Analysis      0.451070  ...  0.856834  0.881844\n",
              "7                            Bayes      0.027758  ...  0.726806  0.900212\n",
              "\n",
              "[9 rows x 8 columns]"
            ]
          },
          "metadata": {
            "tags": []
          },
          "execution_count": 67
        }
      ]
    },
    {
      "cell_type": "code",
      "metadata": {
        "id": "lflFQBmyRgAt"
      },
      "source": [
        ""
      ],
      "execution_count": null,
      "outputs": []
    }
  ]
}